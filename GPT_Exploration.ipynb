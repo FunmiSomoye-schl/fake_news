{
  "nbformat": 4,
  "nbformat_minor": 0,
  "metadata": {
    "colab": {
      "provenance": [],
      "authorship_tag": "ABX9TyMrSjtmYAdoILVVl6z3MU9Z",
      "include_colab_link": true
    },
    "kernelspec": {
      "name": "python3",
      "display_name": "Python 3"
    },
    "language_info": {
      "name": "python"
    }
  },
  "cells": [
    {
      "cell_type": "markdown",
      "metadata": {
        "id": "view-in-github",
        "colab_type": "text"
      },
      "source": [
        "<a href=\"https://colab.research.google.com/github/FunmiSomoye-schl/fake_news/blob/main/GPT_Exploration.ipynb\" target=\"_parent\"><img src=\"https://colab.research.google.com/assets/colab-badge.svg\" alt=\"Open In Colab\"/></a>"
      ]
    },
    {
      "cell_type": "code",
      "source": [
        "!pip install openai"
      ],
      "metadata": {
        "colab": {
          "base_uri": "https://localhost:8080/"
        },
        "id": "kdem8hBVAX8b",
        "outputId": "3cc287d6-79b0-42a8-f0d1-9536cec5365b"
      },
      "execution_count": 2,
      "outputs": [
        {
          "output_type": "stream",
          "name": "stdout",
          "text": [
            "Collecting openai\n",
            "  Downloading openai-1.23.2-py3-none-any.whl (311 kB)\n",
            "\u001b[2K     \u001b[90m━━━━━━━━━━━━━━━━━━━━━━━━━━━━━━━━━━━━━━━━\u001b[0m \u001b[32m311.2/311.2 kB\u001b[0m \u001b[31m4.6 MB/s\u001b[0m eta \u001b[36m0:00:00\u001b[0m\n",
            "\u001b[?25hRequirement already satisfied: anyio<5,>=3.5.0 in /usr/local/lib/python3.10/dist-packages (from openai) (3.7.1)\n",
            "Requirement already satisfied: distro<2,>=1.7.0 in /usr/lib/python3/dist-packages (from openai) (1.7.0)\n",
            "Collecting httpx<1,>=0.23.0 (from openai)\n",
            "  Downloading httpx-0.27.0-py3-none-any.whl (75 kB)\n",
            "\u001b[2K     \u001b[90m━━━━━━━━━━━━━━━━━━━━━━━━━━━━━━━━━━━━━━━━\u001b[0m \u001b[32m75.6/75.6 kB\u001b[0m \u001b[31m8.8 MB/s\u001b[0m eta \u001b[36m0:00:00\u001b[0m\n",
            "\u001b[?25hRequirement already satisfied: pydantic<3,>=1.9.0 in /usr/local/lib/python3.10/dist-packages (from openai) (2.7.0)\n",
            "Requirement already satisfied: sniffio in /usr/local/lib/python3.10/dist-packages (from openai) (1.3.1)\n",
            "Requirement already satisfied: tqdm>4 in /usr/local/lib/python3.10/dist-packages (from openai) (4.66.2)\n",
            "Requirement already satisfied: typing-extensions<5,>=4.7 in /usr/local/lib/python3.10/dist-packages (from openai) (4.11.0)\n",
            "Requirement already satisfied: idna>=2.8 in /usr/local/lib/python3.10/dist-packages (from anyio<5,>=3.5.0->openai) (3.7)\n",
            "Requirement already satisfied: exceptiongroup in /usr/local/lib/python3.10/dist-packages (from anyio<5,>=3.5.0->openai) (1.2.1)\n",
            "Requirement already satisfied: certifi in /usr/local/lib/python3.10/dist-packages (from httpx<1,>=0.23.0->openai) (2024.2.2)\n",
            "Collecting httpcore==1.* (from httpx<1,>=0.23.0->openai)\n",
            "  Downloading httpcore-1.0.5-py3-none-any.whl (77 kB)\n",
            "\u001b[2K     \u001b[90m━━━━━━━━━━━━━━━━━━━━━━━━━━━━━━━━━━━━━━━━\u001b[0m \u001b[32m77.9/77.9 kB\u001b[0m \u001b[31m9.3 MB/s\u001b[0m eta \u001b[36m0:00:00\u001b[0m\n",
            "\u001b[?25hCollecting h11<0.15,>=0.13 (from httpcore==1.*->httpx<1,>=0.23.0->openai)\n",
            "  Downloading h11-0.14.0-py3-none-any.whl (58 kB)\n",
            "\u001b[2K     \u001b[90m━━━━━━━━━━━━━━━━━━━━━━━━━━━━━━━━━━━━━━━━\u001b[0m \u001b[32m58.3/58.3 kB\u001b[0m \u001b[31m6.0 MB/s\u001b[0m eta \u001b[36m0:00:00\u001b[0m\n",
            "\u001b[?25hRequirement already satisfied: annotated-types>=0.4.0 in /usr/local/lib/python3.10/dist-packages (from pydantic<3,>=1.9.0->openai) (0.6.0)\n",
            "Requirement already satisfied: pydantic-core==2.18.1 in /usr/local/lib/python3.10/dist-packages (from pydantic<3,>=1.9.0->openai) (2.18.1)\n",
            "Installing collected packages: h11, httpcore, httpx, openai\n",
            "Successfully installed h11-0.14.0 httpcore-1.0.5 httpx-0.27.0 openai-1.23.2\n"
          ]
        }
      ]
    },
    {
      "cell_type": "code",
      "source": [
        "import warnings\n",
        "warnings.filterwarnings('ignore')"
      ],
      "metadata": {
        "id": "qJwxrWqN_dFz"
      },
      "execution_count": 1,
      "outputs": []
    },
    {
      "cell_type": "code",
      "execution_count": 4,
      "metadata": {
        "id": "5-Tn6F8e_HHm"
      },
      "outputs": [],
      "source": [
        "from openai import AzureOpenAI\n",
        "import pandas as pd\n",
        "import numpy as np\n",
        "import os"
      ]
    },
    {
      "cell_type": "code",
      "source": [
        "OPEN_AI_ENDPOINT = 'Empty'\n",
        "OPEN_AI_API_KEY = 'Empty'\n",
        "OPEN_AI_API_VERSION = 'Empty'\n",
        "ADA2_DEPLOYMENT_NAME = 'Empty'\n",
        "GPT_DEPLOYMENT_NAME = 'Empty'"
      ],
      "metadata": {
        "id": "CtZ69qaCAjyg"
      },
      "execution_count": null,
      "outputs": []
    },
    {
      "cell_type": "code",
      "source": [
        "def query_gpt(text: str, endpoint: str, api_key: str, api_version: str,\n",
        "              deployment: str) -> str:\n",
        "    \"\"\"Places request to the OpenAI API and returns the response as string\"\"\"\n",
        "\n",
        "    client = AzureOpenAI(api_key=api_key,\n",
        "                         api_version=api_version,\n",
        "                         azure_endpoint=endpoint\n",
        "                         )\n",
        "\n",
        "    response = client.chat.completions.create(model=deployment, messages=text)\n",
        "    output = response.choices[0].message.content\n",
        "\n",
        "    return output"
      ],
      "metadata": {
        "id": "djQTl4dqA3kL"
      },
      "execution_count": null,
      "outputs": []
    },
    {
      "cell_type": "code",
      "source": [
        "gpt_query = [\n",
        "    {\n",
        "        \"role\":\"system\",\n",
        "        \"content\": \"\"\"You are an expert at detecting Fake News.\n",
        "        You will be responsible for determining if a certain text is Fake News or if it is not fake news\n",
        "        A given text can only be wither Fake News or Not Fake News.\n",
        "        Return your response in JSON format.\n",
        "\n",
        "        If the text is fake news, please return the following:\n",
        "        {\"response\": \"Fake News\"}\n",
        "\n",
        "        If the text is NOT fake news, please return the following:\n",
        "        {\"response\": \"Not Fake News\"}\n",
        "        \"\"\"\n",
        "    },\n",
        "\n",
        "    {\n",
        "        \"role\":\"user\",\n",
        "        \"content\": \"\"\"a certain text\"\"\"\n",
        "    }\n",
        "]\n",
        "\n",
        "output = query_gpt(gpt_query, OPEN_AI_ENDPOINT, OPEN_AI_API_KEY, OPEN_AI_API_VERSION, GPT_DEPLOYMENT_NAME)\n",
        "print(output)"
      ],
      "metadata": {
        "id": "t3Jr4LnSBlzW"
      },
      "execution_count": 5,
      "outputs": []
    }
  ]
}
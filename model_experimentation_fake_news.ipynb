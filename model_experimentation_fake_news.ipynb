{
  "cells": [
    {
      "cell_type": "markdown",
      "metadata": {
        "id": "view-in-github",
        "colab_type": "text"
      },
      "source": [
        "<a href=\"https://colab.research.google.com/github/FunmiSomoye-schl/fake_news/blob/main/model_experimentation_fake_news.ipynb\" target=\"_parent\"><img src=\"https://colab.research.google.com/assets/colab-badge.svg\" alt=\"Open In Colab\"/></a>"
      ]
    },
    {
      "cell_type": "markdown",
      "metadata": {
        "id": "iGJ0dQSgxyho"
      },
      "source": [
        "# Installations and Importations"
      ]
    },
    {
      "cell_type": "markdown",
      "metadata": {
        "id": "c8K-0nRIOpRg"
      },
      "source": [
        "## Installations"
      ]
    },
    {
      "cell_type": "code",
      "execution_count": 1,
      "metadata": {
        "colab": {
          "base_uri": "https://localhost:8080/"
        },
        "id": "JtC2LixG1rhb",
        "outputId": "aa0d8c28-6501-471f-ff1a-384ebfe55605"
      },
      "outputs": [
        {
          "output_type": "stream",
          "name": "stdout",
          "text": [
            "Collecting lingua-language-detector\n",
            "  Downloading lingua_language_detector-2.0.2-cp310-cp310-manylinux_2_17_x86_64.manylinux2014_x86_64.whl (74.7 MB)\n",
            "\u001b[2K     \u001b[90m━━━━━━━━━━━━━━━━━━━━━━━━━━━━━━━━━━━━━━━━\u001b[0m \u001b[32m74.7/74.7 MB\u001b[0m \u001b[31m3.9 MB/s\u001b[0m eta \u001b[36m0:00:00\u001b[0m\n",
            "\u001b[?25hInstalling collected packages: lingua-language-detector\n",
            "Successfully installed lingua-language-detector-2.0.2\n",
            "Collecting contractions\n",
            "  Downloading contractions-0.1.73-py2.py3-none-any.whl (8.7 kB)\n",
            "Collecting textsearch>=0.0.21 (from contractions)\n",
            "  Downloading textsearch-0.0.24-py2.py3-none-any.whl (7.6 kB)\n",
            "Collecting anyascii (from textsearch>=0.0.21->contractions)\n",
            "  Downloading anyascii-0.3.2-py3-none-any.whl (289 kB)\n",
            "\u001b[2K     \u001b[90m━━━━━━━━━━━━━━━━━━━━━━━━━━━━━━━━━━━━━━━━\u001b[0m \u001b[32m289.9/289.9 kB\u001b[0m \u001b[31m5.0 MB/s\u001b[0m eta \u001b[36m0:00:00\u001b[0m\n",
            "\u001b[?25hCollecting pyahocorasick (from textsearch>=0.0.21->contractions)\n",
            "  Downloading pyahocorasick-2.1.0-cp310-cp310-manylinux_2_5_x86_64.manylinux1_x86_64.manylinux_2_12_x86_64.manylinux2010_x86_64.whl (110 kB)\n",
            "\u001b[2K     \u001b[90m━━━━━━━━━━━━━━━━━━━━━━━━━━━━━━━━━━━━━━━━\u001b[0m \u001b[32m110.7/110.7 kB\u001b[0m \u001b[31m10.7 MB/s\u001b[0m eta \u001b[36m0:00:00\u001b[0m\n",
            "\u001b[?25hInstalling collected packages: pyahocorasick, anyascii, textsearch, contractions\n",
            "Successfully installed anyascii-0.3.2 contractions-0.1.73 pyahocorasick-2.1.0 textsearch-0.0.24\n"
          ]
        }
      ],
      "source": [
        "!pip install lingua-language-detector\n",
        "!pip install contractions"
      ]
    },
    {
      "cell_type": "markdown",
      "metadata": {
        "id": "8wVC3XJUq4JD"
      },
      "source": [
        "## Importations"
      ]
    },
    {
      "cell_type": "markdown",
      "metadata": {
        "id": "Zmftx9IPx74q"
      },
      "source": [
        "### Libraries"
      ]
    },
    {
      "cell_type": "code",
      "source": [
        "import re\n",
        "import pandas as pd\n",
        "import numpy as np\n",
        "\n",
        "from sklearn.model_selection import train_test_split\n",
        "\n",
        "import matplotlib.pyplot as plt\n",
        "%matplotlib inline\n",
        "import seaborn as sns\n",
        "\n",
        "from lingua import Language, LanguageDetectorBuilder\n",
        "import contractions\n",
        "\n",
        "import nltk\n",
        "from nltk.corpus import stopwords\n",
        "from nltk.tokenize import word_tokenize\n",
        "from nltk.corpus import wordnet\n",
        "from nltk.tag import pos_tag\n",
        "nltk.download('stopwords')\n",
        "nltk.download('punkt')\n",
        "nltk.download('wordnet')\n",
        "nltk.download('averaged_perceptron_tagger')\n",
        "nltk.download('omw-1.4')\n",
        "\n",
        "from nltk.stem import WordNetLemmatizer\n",
        "\n",
        "from sklearn.base import BaseEstimator, TransformerMixin\n",
        "from sklearn.pipeline import Pipeline\n",
        "from sklearn.feature_extraction.text import CountVectorizer\n",
        "from sklearn.feature_extraction.text import TfidfVectorizer\n",
        "from sklearn.feature_extraction.text import TfidfTransformer\n",
        "\n",
        "#models to evaluate\n",
        "from sklearn.linear_model import LogisticRegression\n",
        "from sklearn.naive_bayes import MultinomialNB\n",
        "from sklearn.linear_model import SGDClassifier\n",
        "from sklearn.ensemble import RandomForestClassifier\n",
        "from sklearn.svm import SVC\n",
        "from sklearn.model_selection import cross_val_score\n",
        "from sklearn.metrics import classification_report, confusion_matrix, PrecisionRecallDisplay, precision_recall_curve, \\\n",
        "    roc_curve, roc_auc_score, average_precision_score, recall_score, precision_score"
      ],
      "metadata": {
        "colab": {
          "base_uri": "https://localhost:8080/"
        },
        "id": "KtIcNhqrl7gf",
        "outputId": "f8a2a160-9ce0-4b09-dfaa-f52f6586af51"
      },
      "execution_count": 2,
      "outputs": [
        {
          "output_type": "stream",
          "name": "stderr",
          "text": [
            "[nltk_data] Downloading package stopwords to /root/nltk_data...\n",
            "[nltk_data]   Unzipping corpora/stopwords.zip.\n",
            "[nltk_data] Downloading package punkt to /root/nltk_data...\n",
            "[nltk_data]   Unzipping tokenizers/punkt.zip.\n",
            "[nltk_data] Downloading package wordnet to /root/nltk_data...\n",
            "[nltk_data] Downloading package averaged_perceptron_tagger to\n",
            "[nltk_data]     /root/nltk_data...\n",
            "[nltk_data]   Unzipping taggers/averaged_perceptron_tagger.zip.\n",
            "[nltk_data] Downloading package omw-1.4 to /root/nltk_data...\n"
          ]
        }
      ]
    },
    {
      "cell_type": "markdown",
      "metadata": {
        "id": "UUJiJKjEq9lu"
      },
      "source": [
        "### Main Data"
      ]
    },
    {
      "cell_type": "code",
      "source": [
        "main_df = pd.read_excel('scored_posts.xlsx')\n",
        "data = main_df[['title', 'trustworthiness']]"
      ],
      "metadata": {
        "id": "t55JjT4_Gkdr"
      },
      "execution_count": 12,
      "outputs": []
    },
    {
      "cell_type": "markdown",
      "metadata": {
        "id": "kbofcp-RrLU2"
      },
      "source": [
        "### Classes and Functions"
      ]
    },
    {
      "cell_type": "markdown",
      "metadata": {
        "id": "-lARD_oY42-h"
      },
      "source": [
        "#### Data Pre-Processing"
      ]
    },
    {
      "cell_type": "code",
      "execution_count": 52,
      "metadata": {
        "id": "louzgvI8k-by"
      },
      "outputs": [],
      "source": [
        "def lemmatize_pos_tagged_text(text: str, lemmatizer, pos_tag_dict: dict) -> str:\n",
        "    \"\"\"Tag words in a sentence with their part of speech,\n",
        "    then lemmatize using the tags as a reference\n",
        "    \"\"\"\n",
        "\n",
        "    new_sentence_words = []\n",
        "    tokens = word_tokenize(text)\n",
        "    pos_tuples = pos_tag(tokens)\n",
        "\n",
        "    for word_idx, word in enumerate(tokens):\n",
        "        nltk_word_pos = pos_tuples[word_idx][1]\n",
        "        wordnet_word_pos = pos_tag_dict.get(nltk_word_pos[0].upper(), None)\n",
        "\n",
        "        if wordnet_word_pos is not None:\n",
        "            new_word = lemmatizer.lemmatize(word, wordnet_word_pos)\n",
        "        else:\n",
        "            new_word = lemmatizer.lemmatize(word)\n",
        "        new_sentence_words.append(new_word)\n",
        "\n",
        "    new_sentence = ' '.join(new_sentence_words)\n",
        "\n",
        "    return new_sentence\n",
        "\n",
        "\n",
        "def language_filter(text: str, lang_detector) -> str:\n",
        "    \"\"\"\n",
        "    Replace non-English texts with Nan\n",
        "    \"\"\"\n",
        "\n",
        "    thresh = round(lang_detector.\\\n",
        "                   compute_language_confidence(text, Language.ENGLISH), 3)\n",
        "\n",
        "    if thresh <= 0.095:\n",
        "        text = np.NaN\n",
        "    else:\n",
        "        text = text\n",
        "\n",
        "    return text\n",
        "\n",
        "\n",
        "\n",
        "class NltkPreprocessingSteps:\n",
        "    def __init__(self, X):\n",
        "        self.X = X\n",
        "\n",
        "        #stopwords\n",
        "        junk_words = ['update'] #commmon reddit word for updated posts\n",
        "        self.stop_words = stopwords.words('english')\n",
        "        self.stop_words.extend(junk_words)\n",
        "        self.stop_words.remove('not')\n",
        "\n",
        "        #Parts of Speech\n",
        "        self.pos_tag_dict = {\"J\": wordnet.ADJ,\n",
        "                        \"N\": wordnet.NOUN,\n",
        "                        \"V\": wordnet.VERB,\n",
        "                        \"R\": wordnet.ADV}\n",
        "\n",
        "\n",
        "    def to_lower(self):\n",
        "        self.X = self.X.apply(lambda x: x if pd.isnull(x) else x.lower())\n",
        "\n",
        "        return self\n",
        "\n",
        "\n",
        "    def remove_domain_ext(self):\n",
        "        self.X = self.X.apply(lambda x: ''.\\\n",
        "                              join(w for w in str(x).split('.')[0]))\n",
        "\n",
        "        return self\n",
        "\n",
        "\n",
        "    def expand_contractions(self):\n",
        "        self.X = self.X.apply(\n",
        "                lambda x: x if pd.isnull(x) else ' '.\\\n",
        "                join([contractions.fix(expanded_word)\n",
        "                for expanded_word in x.split()]))\n",
        "\n",
        "        return self\n",
        "\n",
        "\n",
        "    def remove_mentions(self):\n",
        "        self.X = self.X.apply(lambda x: x if pd.isnull(x) else\n",
        "                              re.sub(\"@[^\\s]+\", \" \", str(x)))\n",
        "\n",
        "        return self\n",
        "\n",
        "\n",
        "    def remove_urls(self):\n",
        "        self.X = self.X.apply(lambda x: x if pd.isnull(x) else\n",
        "                              re.sub(\"http[^\\s]+\", \" \", str(x)))\n",
        "\n",
        "        return self\n",
        "\n",
        "\n",
        "    def replace_dots(self):\n",
        "        #Replace periods with white spaces\n",
        "        self.X = self.X.apply(lambda x: x if pd.isnull(x) else\n",
        "                              re.sub(\"[.]\", \" \", str(x)))\n",
        "\n",
        "        return self\n",
        "\n",
        "\n",
        "    def remove_non_alpha(self):\n",
        "        #Remove all special characters\n",
        "        self.X = self.X.apply(lambda x: x if pd.isnull(x) else\n",
        "                              re.sub(r\"[^A-Za-z ]+\", \" \", str(x)))\n",
        "\n",
        "        return self\n",
        "\n",
        "\n",
        "    def remove_short_words(self):\n",
        "        self.X = self.X.apply(lambda x: x if pd.isnull(x) else ' '.\\\n",
        "                              join([word for word in str(x).split()\n",
        "                              if len(word) > 1]))\n",
        "\n",
        "        return self\n",
        "\n",
        "\n",
        "    def remove_stopwords(self):\n",
        "        self.X = self.X.apply(\n",
        "                lambda x: x if pd.isnull(x) else ' '.\\\n",
        "                join([word for word in x.split()\n",
        "                if word not in self.stop_words]))\n",
        "\n",
        "        return self\n",
        "\n",
        "\n",
        "    def pos_lemmatize(self):\n",
        "        lemmatizer = WordNetLemmatizer()\n",
        "        self.X = self.X.apply(lambda x: x if pd.isnull(x) else\n",
        "                              lemmatize_pos_tagged_text(x, lemmatizer,\n",
        "                                                        self.pos_tag_dict))\n",
        "\n",
        "        return self\n",
        "\n",
        "\n",
        "    def non_eng_filter(self):\n",
        "        lang_detector = LanguageDetectorBuilder.from_all_spoken_languages().\\\n",
        "                        build()\n",
        "        self.X = self.X.apply(lambda x: x if pd.isnull(x) else\n",
        "                              language_filter(x, lang_detector))\n",
        "\n",
        "        return self\n",
        "\n",
        "\n",
        "    def get_processed_text(self):\n",
        "\n",
        "        return self.X"
      ]
    },
    {
      "cell_type": "code",
      "execution_count": 7,
      "metadata": {
        "id": "MxmgpEqrN_i3"
      },
      "outputs": [],
      "source": [
        "class TitlePreprocessor(TransformerMixin, BaseEstimator):\n",
        "    def __init__(self) -> None:\n",
        "        pass\n",
        "\n",
        "    def fit(self, X):\n",
        "        return self\n",
        "\n",
        "    def transform(self, X):\n",
        "        txt_preproc = NltkPreprocessingSteps(X.copy())\n",
        "        processed_text = \\\n",
        "            txt_preproc\\\n",
        "            .remove_non_alpha()\\\n",
        "            .non_eng_filter()\\\n",
        "            .to_lower()\\\n",
        "            .expand_contractions()\\\n",
        "            .remove_mentions()\\\n",
        "            .remove_urls()\\\n",
        "            .replace_dots()\\\n",
        "            .remove_short_words()\\\n",
        "            .remove_stopwords()\\\n",
        "            .pos_lemmatize()\\\n",
        "            .get_processed_text()\n",
        "\n",
        "        return processed_text"
      ]
    },
    {
      "cell_type": "markdown",
      "metadata": {
        "id": "_X6xqgc34-_H"
      },
      "source": [
        "#### ML"
      ]
    },
    {
      "cell_type": "code",
      "execution_count": null,
      "metadata": {
        "id": "3yKMetO1496x"
      },
      "outputs": [],
      "source": [
        "def get_precision_recall_df(trained_classifier, cap_x_df: pd.Series | pd.DataFrame,\n",
        "                            y_df: pd.Series | pd.DataFrame,\n",
        "                            prc_pos_label: int | float | bool | str = None,\n",
        "                            sample_weight: list[int] = None) -> \\\n",
        "                            tuple[pd.DataFrame, float, float, list[float]]:\n",
        "    \"\"\"Get outputs from Sklearn precision_recall_curve\"\"\"\n",
        "\n",
        "    precision, recall, thresholds = precision_recall_curve(\n",
        "        y_df,\n",
        "        trained_classifier.predict_proba(cap_x_df)[:, 1],\n",
        "        pos_label=prc_pos_label,\n",
        "        sample_weight=sample_weight\n",
        "    )\n",
        "\n",
        "    precision_recall_df = pd.DataFrame(\n",
        "        {\n",
        "            'precision': precision,\n",
        "            'recall': recall,\n",
        "            'thresholds': np.concatenate([thresholds, np.array([np.nan])])\n",
        "        }\n",
        "    )\n",
        "\n",
        "    return precision_recall_df, precision, recall, thresholds\n",
        "\n",
        "\n",
        "def get_precision_and_recall_for_threshold(precision_recall_df: pd.DataFrame,\n",
        "                                           threshold: list[float]) \\\n",
        "                                           -> tuple[float, float]:\n",
        "    \"\"\"Compute precision and recall for classification threshold\"\"\"\n",
        "\n",
        "    closest_index = (precision_recall_df.thresholds - threshold).abs().idxmin()\n",
        "    thresh_precision = precision_recall_df.loc[closest_index, 'precision']\n",
        "    thresh_recall = precision_recall_df.loc[closest_index, 'recall']\n",
        "\n",
        "    return thresh_precision, thresh_recall\n",
        "\n",
        "\n",
        "def get_average_precision_score(trained_classifier,\n",
        "                                cap_x_df: pd.Series | pd.DataFrame,\n",
        "                                y_df: pd.Series | pd.DataFrame,\n",
        "                                average: str = 'macro',\n",
        "                                pos_label: int | float | bool | str = 1,\n",
        "                                sample_weight: list = None) -> float:\n",
        "    \"\"\"Get sklearn average precision score\"\"\"\n",
        "\n",
        "    ave_precision_score = average_precision_score(\n",
        "        y_true=y_df,\n",
        "        #retain probabilities for positive outcome only\n",
        "        y_score=trained_classifier.predict_proba(cap_x_df)[:, 1],\n",
        "        average=average,\n",
        "        pos_label=pos_label,\n",
        "        sample_weight=sample_weight\n",
        "    )\n",
        "\n",
        "    return ave_precision_score\n",
        "\n",
        "\n",
        "def get_binary_precision_recall_curves(trained_classifier,\n",
        "                                       cap_x_df: pd.Series | pd.DataFrame,\n",
        "                                       y_df: pd.Series | pd.DataFrame,\n",
        "                                       prc_pos_label: int | float | bool | str = None,\n",
        "                                       sample_weight: list = None,\n",
        "                                       average_precision: float = None,\n",
        "                                       estimator_name: str = None,\n",
        "                                       prd_pos_label: int | float | bool | str = None,\n",
        "                                       classification_threshold: float = 0.5,\n",
        "                                       print_prc: bool = True,\n",
        "                                       print_prd: bool = True) \\\n",
        "                                       -> tuple[pd.DataFrame, float, float]:\n",
        "    \"\"\"\n",
        "    Plot two curves: Precision recall curve, and Precision and Recall\n",
        "    as a function of classification threshold, and return scores\n",
        "    \"\"\"\n",
        "\n",
        "    precision_recall_df, precision, recall, thresholds = \\\n",
        "        get_precision_recall_df(trained_classifier, cap_x_df, y_df,\n",
        "                                prc_pos_label=prc_pos_label,\n",
        "                                sample_weight=sample_weight)\n",
        "\n",
        "    class_thresh_precision, class_thresh_recall = \\\n",
        "        get_precision_and_recall_for_threshold(precision_recall_df,\n",
        "                                               classification_threshold)\n",
        "\n",
        "    ave_precision_score = get_average_precision_score(trained_classifier,\n",
        "                                                      cap_x_df, y_df)\n",
        "\n",
        "    prediction_recall_score = recall_score(y_df, trained_classifier.\\\n",
        "                                           predict(cap_x_df), average='macro')\n",
        "\n",
        "    if print_prc:\n",
        "        plt.plot(thresholds, precision[:-1], \"b--\", label='precision',\n",
        "                 linewidth=2)\n",
        "        plt.plot(thresholds, recall[:-1], \"g-\", label='recall', linewidth=2)\n",
        "        plt.vlines(classification_threshold, 0, 1.0, \"k\", \"dotted\",\n",
        "                   label=f'{classification_threshold} threshold')\n",
        "        plt.legend()\n",
        "        plt.xlabel('classification threshold')\n",
        "        plt.ylabel('precision and recall')\n",
        "        plt.title(f'Precision and Recall as a Function of Classification \\\n",
        "        Threshold\\n')\n",
        "        plt.grid()\n",
        "        plt.show()\n",
        "\n",
        "    if print_prd:\n",
        "        print(f'\\nprecision-recall curve:\\n')\n",
        "        disp = PrecisionRecallDisplay(precision, recall,\n",
        "                                      average_precision=average_precision,\n",
        "                                      estimator_name=estimator_name,\n",
        "                                      pos_label=prd_pos_label)\n",
        "        disp.plot()\n",
        "        plt.plot(class_thresh_recall, class_thresh_precision, \"ko\",\n",
        "                 label=f'classification threshold = {classification_threshold}')\n",
        "        plt.legend()\n",
        "        plt.grid()\n",
        "        plt.title(f'precision-recall curve - ave_precision_score = \\\n",
        "        {round(ave_precision_score, 4)}\\n')\n",
        "        plt.show()\n",
        "\n",
        "    return precision_recall_df, ave_precision_score, prediction_recall_score\n",
        "\n",
        "\n",
        "def get_precision_recall_curves(trained_classifier,\n",
        "                                cap_x_df: pd.Series | pd.DataFrame,\n",
        "                                y_df: pd.Series | pd.DataFrame,\n",
        "                                prc_pos_label: int | float | bool | str = None,\n",
        "                                sample_weight: list = None,\n",
        "                                average_precision: float = None,\n",
        "                                estimator_name: str = None,\n",
        "                                prd_pos_label: int | float | bool | str = None,\n",
        "                                classification_threshold: float = 0.5,\n",
        "                                print_prc: bool = True, print_prd: bool = True) \\\n",
        "                                -> tuple[pd.DataFrame, float, float]:\n",
        "    \"\"\"Plot Precision recall curves and get scores\"\"\"\n",
        "\n",
        "    precision_recall_df, ave_precision_score, prediction_recall_score = \\\n",
        "            get_binary_precision_recall_curves(trained_classifier, cap_x_df,\n",
        "                                               y_df, prc_pos_label=prc_pos_label,\n",
        "                                               sample_weight=sample_weight,\n",
        "                                               average_precision=average_precision,\n",
        "                                               estimator_name=estimator_name,\n",
        "                                               prd_pos_label=prd_pos_label,\n",
        "                                               classification_threshold=classification_threshold,\n",
        "                                               print_prc=print_prc,\n",
        "                                               print_prd=print_prd)\n",
        "\n",
        "    return precision_recall_df, ave_precision_score, prediction_recall_score\n",
        "\n",
        "\n",
        "def get_class_eval_dict(eval_dict: dict, score: float, score_name: str) -> dict:\n",
        "    \"\"\"Arrange scores in a dictionary\"\"\"\n",
        "\n",
        "    if isinstance(score, dict):\n",
        "        eval_dict['ave_' + score_name] = np.mean(list(score.values()))\n",
        "\n",
        "        for k, v in score.items():\n",
        "            score[k] = round(v, 3)\n",
        "\n",
        "        eval_dict[score_name] = score\n",
        "\n",
        "    else:\n",
        "        eval_dict[score_name] = score\n",
        "\n",
        "    return eval_dict\n",
        "\n",
        "\n",
        "def eval_trained_estimator_class(trained_estimator,\n",
        "                                 cap_x_df: pd.Series | pd.DataFrame,\n",
        "                                 y_df: pd.Series | pd.DataFrame,\n",
        "                                 model_selection_stage: str, estimator_name: str,\n",
        "                                 data_set_type: str, class_eval_dict: dict,\n",
        "                                 print_eval_results: bool = True) -> dict:\n",
        "    \"\"\"\n",
        "    Compute defined sklearn metrics in class_eval_dict, plot precision recall curves,\n",
        "    and get evaluation scores\n",
        "    \"\"\"\n",
        "    if estimator_name is None:\n",
        "        estimator_name = ''\n",
        "    if model_selection_stage is None:\n",
        "        model_selection_stage = ''\n",
        "    if data_set_type is None:\n",
        "        data_set_type = ''\n",
        "\n",
        "    eval_dict = {}\n",
        "    for eval_type, eval_type_list in class_eval_dict.items():\n",
        "        if eval_type_list[0]:\n",
        "            kwargs = eval_type_list[1]\n",
        "            if eval_type == 'get_precision_recall_curves':\n",
        "                _, ave_precision_score, prediction_recall_score = \\\n",
        "                    get_precision_recall_curves(trained_estimator, cap_x_df,\n",
        "                                                y_df, **kwargs)\n",
        "\n",
        "                eval_dict = get_class_eval_dict(eval_dict, ave_precision_score,\n",
        "                                                'ave_precision_score')\n",
        "\n",
        "                eval_dict = get_class_eval_dict(eval_dict,\n",
        "                                                prediction_recall_score,\n",
        "                                                'ave_recall_score')\n",
        "\n",
        "    if print_eval_results:\n",
        "        print(f'{model_selection_stage} of the {estimator_name} estimator \\\n",
        "        predicting on the {data_set_type} data set')\n",
        "        print('Average Precision score:', eval_dict['ave_precision_score'])\n",
        "        print('Average Recall score:', eval_dict['ave_recall_score'])\n",
        "\n",
        "    return eval_dict\n",
        "\n",
        "\n",
        "def eval_trained_estimators_in_trained_estimator_dict_class(trained_estimator_dict,\n",
        "                                                            cap_x_df: pd.Series | pd.DataFrame,\n",
        "                                                            y_df: pd.Series | pd.DataFrame,\n",
        "                                                            data_set_type: str,\n",
        "                                                            model_selection_stage: str,\n",
        "                                                            class_eval_dict: str) \\\n",
        "                                                            -> pd.DataFrame:\n",
        "    \"\"\"Evaluate Trained estimators using metrics in class_eval_dict\"\"\"\n",
        "\n",
        "    df_row_dict_list = []\n",
        "    for estimator_name, trained_estimator in trained_estimator_dict.items():\n",
        "        print('\\n', '*' * 50, sep='')\n",
        "\n",
        "        eval_dict = \\\n",
        "            eval_trained_estimator_class(trained_estimator, cap_x_df, y_df,\n",
        "                                         model_selection_stage, estimator_name,\n",
        "                                         data_set_type, class_eval_dict)\n",
        "        print('')\n",
        "        eval_dict['estimator'] = estimator_name\n",
        "        eval_dict['data_set_type'] = data_set_type\n",
        "        eval_dict['model_selection_stage'] = model_selection_stage\n",
        "        df_row_dict_list.append(eval_dict)\n",
        "\n",
        "    compare_df = pd.DataFrame(df_row_dict_list)\n",
        "\n",
        "    return compare_df\n",
        "\n",
        "\n",
        "def fit_collection_of_estimators_title_attr(estimator_names: list[str],\n",
        "                                            estimator_list: list,\n",
        "                                            cap_x_df: pd.Series | pd.DataFrame,\n",
        "                                            y_df: pd.Series | pd.DataFrame,\n",
        "                                            data_set_type: str,\n",
        "                                            model_selection_stage: str,\n",
        "                                            class_eval_dict: dict) \\\n",
        "                                            -> tuple[pd.DataFrame, dict]:\n",
        "    \"\"\"\n",
        "    Fit Estimators on training data and evaluate performance\n",
        "    on metrics as set in class_eval_dict\n",
        "    \"\"\"\n",
        "\n",
        "    trained_estimator_dict = {}\n",
        "    for estimator_name, estimator in zip(estimator_names, estimator_list):\n",
        "        print('')\n",
        "        print(f'fitting {estimator_name}')\n",
        "\n",
        "        composite_estimator = Pipeline(steps=[('vect', CountVectorizer()),\n",
        "                                              ('tfidf', TfidfTransformer()),\n",
        "                                               ('estimator', estimator)])\n",
        "\n",
        "        trained_estimator_dict[estimator_name] = composite_estimator.fit(cap_x_df,\n",
        "                                                                         y_df.\\\n",
        "                                                                         values.\\\n",
        "                                                                         ravel()\n",
        "                                                                         )\n",
        "    compare_df = \\\n",
        "        eval_trained_estimators_in_trained_estimator_dict_class(trained_estimator_dict,\n",
        "                                                                cap_x_df, y_df,\n",
        "                                                                data_set_type,\n",
        "                                                                model_selection_stage,\n",
        "                                                                class_eval_dict)\n",
        "\n",
        "    return compare_df, trained_estimator_dict"
      ]
    },
    {
      "cell_type": "code",
      "source": [
        "def get_cross_val_score_dict(scoring_dict: dict, estimator,\n",
        "                             cap_x_df: pd.Series | pd.DataFrame,\n",
        "                             y_df: pd.Series | pd.DataFrame, cv: int = 5,\n",
        "                             n_jobs: int = -1, print_scores: bool = True) -> dict:\n",
        "    \"\"\"Evaluate cross validation fit and get scores\"\"\"\n",
        "\n",
        "    scores_dict = {}\n",
        "\n",
        "    for scoring_name, scoring in scoring_dict.items():\n",
        "        scores_dict[scoring_name] = {}\n",
        "        scores_dict[scoring_name]['scoring'] = scoring\n",
        "        scores = cross_val_score(\n",
        "            estimator,\n",
        "            X=cap_x_df,\n",
        "            y=y_df,\n",
        "            scoring=scoring,\n",
        "            cv=cv,\n",
        "            n_jobs=n_jobs,\n",
        "            verbose=0,\n",
        "            error_score=np.nan\n",
        "        )\n",
        "\n",
        "        # scores_dict[scoring_name]['scores'] = scores\n",
        "        scores_dict[scoring_name]['mean'] = np.mean(scores)\n",
        "        scores_dict[scoring_name]['stdev'] = np.std(scores, ddof=1)\n",
        "\n",
        "        if print_scores:\n",
        "            print(f'\\n{scoring_name} cross_val_score:')\n",
        "            print(f'(note - classification_threshold = 0.5)\\n', sep='')\n",
        "            print(f'scores: {scores}')\n",
        "            print(f'np.mean(scores): {np.mean(scores)}')\n",
        "            print(f'np.std(scores, ddof=1): {np.std(scores, ddof=1)}')\n",
        "\n",
        "    return scores_dict\n",
        "\n",
        "\n",
        "def cross_val_estimators_title_attr(estimators_names: list[str], estimators_list: list,\n",
        "                                    cap_x_df:  pd.Series | pd.DataFrame,\n",
        "                                    y_df:  pd.Series | pd.DataFrame,\n",
        "                                    cvs_scoring_dict: dict, cvs_cv: int,\n",
        "                                    cvs_print: bool) -> pd.DataFrame:\n",
        "    results_list = []\n",
        "    for estimator_name, estimator in zip(estimators_names, estimators_list):\n",
        "        print('')\n",
        "        print(f'fitting {estimator_name}')\n",
        "        composite_estimator = Pipeline(steps=[('vect', CountVectorizer()),\n",
        "                                              ('tfidf', TfidfTransformer()),\n",
        "                                               ('estimator', estimator)])\n",
        "        scores_dict = get_cross_val_score_dict(cvs_scoring_dict,\n",
        "                                               composite_estimator, cap_x_df,\n",
        "                                               y_df, cv=cvs_cv, n_jobs=-1,\n",
        "                                               print_scores=cvs_print)\n",
        "        scores_dict['estimator'] = estimator_name\n",
        "        results_list.append(scores_dict)\n",
        "\n",
        "    results_df = pd.DataFrame(results_list)\n",
        "\n",
        "    return results_df"
      ],
      "metadata": {
        "id": "KmQ2boZv-_-W"
      },
      "execution_count": null,
      "outputs": []
    },
    {
      "cell_type": "markdown",
      "metadata": {
        "id": "YJf61hOlKLSU"
      },
      "source": [
        "# Modelling"
      ]
    },
    {
      "cell_type": "markdown",
      "metadata": {
        "id": "CElVzUbqzFxN"
      },
      "source": [
        "#### Set Variables"
      ]
    },
    {
      "cell_type": "code",
      "execution_count": 8,
      "metadata": {
        "id": "Ek_DqaXOJa9G"
      },
      "outputs": [],
      "source": [
        "#data transformation\n",
        "title_processor = TitlePreprocessor()\n",
        "\n",
        "#other variables\n",
        "model_rndm_st = 42\n",
        "train_test_rndm = 42\n",
        "train_val_rndm = 24\n",
        "test_ratio = 0.2\n",
        "target = 'trustworthiness'\n",
        "weight = 'balanced'"
      ]
    },
    {
      "cell_type": "markdown",
      "metadata": {
        "id": "tfigFVtjOawO"
      },
      "source": [
        "## Data Preprocessing"
      ]
    },
    {
      "cell_type": "code",
      "source": [
        "def transform_data(data: pd.DataFrame) -> pd.DataFrame:\n",
        "    \"\"\"Preprocess the Title Column\"\"\"\n",
        "\n",
        "    data['title'] = title_processor.fit_transform(data['title'])\n",
        "    data.dropna(subset=['title'], inplace=True)\n",
        "\n",
        "    return data"
      ],
      "metadata": {
        "id": "2R8zkR1yBYJc"
      },
      "execution_count": 42,
      "outputs": []
    },
    {
      "cell_type": "code",
      "source": [
        "data.dropna(inplace=True)"
      ],
      "metadata": {
        "colab": {
          "base_uri": "https://localhost:8080/"
        },
        "id": "1PWikmO4FeOt",
        "outputId": "a01628c0-f8a8-443f-9c63-dfad66cc9249"
      },
      "execution_count": null,
      "outputs": [
        {
          "output_type": "stream",
          "name": "stderr",
          "text": [
            "<ipython-input-15-f1116dacf2bb>:1: SettingWithCopyWarning: \n",
            "A value is trying to be set on a copy of a slice from a DataFrame\n",
            "\n",
            "See the caveats in the documentation: https://pandas.pydata.org/pandas-docs/stable/user_guide/indexing.html#returning-a-view-versus-a-copy\n",
            "  data.dropna(inplace=True)\n"
          ]
        }
      ]
    },
    {
      "cell_type": "code",
      "source": [
        "df = transform_data(data)"
      ],
      "metadata": {
        "colab": {
          "base_uri": "https://localhost:8080/"
        },
        "id": "KrFtkx4IB0Gc",
        "outputId": "a7615eba-98d9-47a7-e061-40dba117bb28"
      },
      "execution_count": null,
      "outputs": [
        {
          "output_type": "stream",
          "name": "stderr",
          "text": [
            "<ipython-input-14-6d4872155c88>:9: SettingWithCopyWarning: \n",
            "A value is trying to be set on a copy of a slice from a DataFrame.\n",
            "Try using .loc[row_indexer,col_indexer] = value instead\n",
            "\n",
            "See the caveats in the documentation: https://pandas.pydata.org/pandas-docs/stable/user_guide/indexing.html#returning-a-view-versus-a-copy\n",
            "  data['title'] = title_processor.fit_transform(data['title'])\n",
            "<ipython-input-14-6d4872155c88>:10: SettingWithCopyWarning: \n",
            "A value is trying to be set on a copy of a slice from a DataFrame\n",
            "\n",
            "See the caveats in the documentation: https://pandas.pydata.org/pandas-docs/stable/user_guide/indexing.html#returning-a-view-versus-a-copy\n",
            "  data.dropna(subset=['title'], inplace=True)\n"
          ]
        }
      ]
    },
    {
      "cell_type": "code",
      "source": [
        "df.to_csv('disinfo_transformed_data.csv')"
      ],
      "metadata": {
        "id": "AXHyAzPGDtiH"
      },
      "execution_count": null,
      "outputs": []
    },
    {
      "cell_type": "markdown",
      "metadata": {
        "id": "VjX_qaKuRpBi"
      },
      "source": [
        "## Machine Learning"
      ]
    },
    {
      "cell_type": "code",
      "source": [
        "def get_x_y(data: pd.DataFrame, x_col: str, y_col: str) \\\n",
        "            -> tuple[pd.DataFrame, pd.DataFrame]:\n",
        "    \"\"\"\n",
        "    Split dataframe into two dataframes containing x variables\n",
        "    and y variable respectively\n",
        "    \"\"\"\n",
        "\n",
        "    cap_x = data[x_col]\n",
        "    y = data[y_col]\n",
        "\n",
        "    return cap_x, y\n",
        "\n",
        "\n",
        "def classification_df_split(df: pd.DataFrame, test_ratio: int, rndm: int,\n",
        "                            y: str, shuffle: bool = False,\n",
        "                            stratify: bool = False) \\\n",
        "                            -> tuple[pd.DataFrame, pd.DataFrame]:\n",
        "    \"\"\"Split a dataframe into Train and Test dataframes\"\"\"\n",
        "\n",
        "    tr_df, test_df = train_test_split(df, test_size=test_ratio, random_state=rndm,\n",
        "                                      shuffle=shuffle, stratify=stratify)\n",
        "    print('train:', tr_df.shape)\n",
        "    print('test:', test_df.shape)\n",
        "    print('')\n",
        "\n",
        "    print('train target balance: ', tr_df[y].value_counts(normalize=True))\n",
        "    print('')\n",
        "    print('test target balance: ', test_df[y].value_counts(normalize=True))\n",
        "\n",
        "    return tr_df, test_df"
      ],
      "metadata": {
        "id": "bL4KvLdcmBIB"
      },
      "execution_count": 58,
      "outputs": []
    },
    {
      "cell_type": "code",
      "source": [
        "df = pd.read_csv('disinfo_transformed_data.csv', index_col=0)\n",
        "df.dropna(inplace=True)"
      ],
      "metadata": {
        "id": "N5WNgeErSuMh"
      },
      "execution_count": null,
      "outputs": []
    },
    {
      "cell_type": "code",
      "source": [
        "df.info()"
      ],
      "metadata": {
        "colab": {
          "base_uri": "https://localhost:8080/"
        },
        "id": "S2-oO97GQUYj",
        "outputId": "65cbc39f-1a80-453d-d1af-d0060e42a9a6"
      },
      "execution_count": null,
      "outputs": [
        {
          "output_type": "stream",
          "name": "stdout",
          "text": [
            "<class 'pandas.core.frame.DataFrame'>\n",
            "Index: 230350 entries, 0 to 258102\n",
            "Data columns (total 2 columns):\n",
            " #   Column           Non-Null Count   Dtype  \n",
            "---  ------           --------------   -----  \n",
            " 0   title            230350 non-null  object \n",
            " 1   trustworthiness  230350 non-null  float64\n",
            "dtypes: float64(1), object(1)\n",
            "memory usage: 5.3+ MB\n"
          ]
        }
      ]
    },
    {
      "cell_type": "code",
      "source": [
        "df['trustworthiness'] = np.where(df['trustworthiness'] > 0.3, 1, 0)"
      ],
      "metadata": {
        "id": "vIOrPyyEABFj"
      },
      "execution_count": null,
      "outputs": []
    },
    {
      "cell_type": "code",
      "source": [
        "train_df, test_df = classification_df_split(df, test_ratio, train_test_rndm,\n",
        "                                            target, shuffle=True,\n",
        "                                            stratify=df[target])"
      ],
      "metadata": {
        "colab": {
          "base_uri": "https://localhost:8080/"
        },
        "id": "SHa5JjkaAKnb",
        "outputId": "7045aba9-9043-4ba3-a586-4c7170a17344"
      },
      "execution_count": null,
      "outputs": [
        {
          "output_type": "stream",
          "name": "stdout",
          "text": [
            "train: (184280, 2)\n",
            "test: (46070, 2)\n",
            "\n",
            "train target balance:  trustworthiness\n",
            "1    0.958585\n",
            "0    0.041415\n",
            "Name: proportion, dtype: float64\n",
            "\n",
            "test target balance:  trustworthiness\n",
            "1    0.958585\n",
            "0    0.041415\n",
            "Name: proportion, dtype: float64\n"
          ]
        }
      ]
    },
    {
      "cell_type": "code",
      "source": [
        "train_df, val_df = classification_df_split(train_df, test_ratio, train_test_rndm,\n",
        "                                           target, shuffle=True,\n",
        "                                           stratify=train_df[target])"
      ],
      "metadata": {
        "colab": {
          "base_uri": "https://localhost:8080/"
        },
        "id": "zZ8MlzNBgeI3",
        "outputId": "8946dad4-a0da-4c6f-f1c4-53ab19bb3c57"
      },
      "execution_count": null,
      "outputs": [
        {
          "output_type": "stream",
          "name": "stdout",
          "text": [
            "train: (147424, 2)\n",
            "test: (36856, 2)\n",
            "\n",
            "train target balance:  trustworthiness\n",
            "1    0.958582\n",
            "0    0.041418\n",
            "Name: proportion, dtype: float64\n",
            "\n",
            "test target balance:  trustworthiness\n",
            "1    0.958596\n",
            "0    0.041404\n",
            "Name: proportion, dtype: float64\n"
          ]
        }
      ]
    },
    {
      "cell_type": "code",
      "source": [
        "train_df.to_csv('train_data.csv')\n",
        "test_df.to_csv('test_data.csv')\n",
        "val_df.to_csv('val_data.csv')"
      ],
      "metadata": {
        "id": "Tt7iqWPyg054"
      },
      "execution_count": null,
      "outputs": []
    },
    {
      "cell_type": "code",
      "execution_count": null,
      "metadata": {
        "id": "ZfdBZI15SXkO"
      },
      "outputs": [],
      "source": [
        "tr_cap_x, tr_y = get_x_y(train_df, 'title', 'trustworthiness')\n",
        "val_cap_x, val_y = get_x_y(val_df, 'title', 'trustworthiness')"
      ]
    },
    {
      "cell_type": "markdown",
      "source": [
        "### Stratified Sample Cross Val Training"
      ],
      "metadata": {
        "id": "Fk1mJumQ-9q1"
      }
    },
    {
      "cell_type": "code",
      "source": [
        "stratified_train = train_df.groupby('trustworthiness').apply(lambda x: x.sample(frac=0.40))\n",
        "stratified_train.shape"
      ],
      "metadata": {
        "colab": {
          "base_uri": "https://localhost:8080/"
        },
        "id": "wqUEYWsh9i2K",
        "outputId": "fa3d028b-3bb2-40c4-e592-edd64fc1efc4"
      },
      "execution_count": null,
      "outputs": [
        {
          "output_type": "execute_result",
          "data": {
            "text/plain": [
              "(58969, 2)"
            ]
          },
          "metadata": {},
          "execution_count": 18
        }
      ]
    },
    {
      "cell_type": "code",
      "source": [
        "str_cap_x, str_y = get_x_y(stratified_train, 'title', 'trustworthiness')"
      ],
      "metadata": {
        "id": "y2yDAXnHJQSI"
      },
      "execution_count": null,
      "outputs": []
    },
    {
      "cell_type": "code",
      "source": [
        "estimator_names = [\n",
        "    'LogisticRegression',\n",
        "    'SGDClassifier',\n",
        "    'SVC',\n",
        "    'MNB'\n",
        "]\n",
        "\n",
        "estimator_list = [\n",
        "    LogisticRegression(random_state=model_rndm_st, n_jobs=-1, class_weight=weight),\n",
        "    SGDClassifier(random_state=model_rndm_st, n_jobs=-1, class_weight=weight),\n",
        "    SVC(class_weight=weight, random_state=model_rndm_st),\n",
        "    MultinomialNB()\n",
        "    ]"
      ],
      "metadata": {
        "id": "nlGU7giQHL40"
      },
      "execution_count": null,
      "outputs": []
    },
    {
      "cell_type": "code",
      "source": [
        "scoring_dict={'precision': 'precision', 'recall':'recall'}\n",
        "\n",
        "cv_dict = cross_val_estimators_title_attr(estimators_names=estimator_names,\n",
        "                                          estimators_list=estimator_list,\n",
        "                                          cap_x_df=str_cap_x,\n",
        "                                          y_df=str_y,\n",
        "                                          cvs_scoring_dict=scoring_dict,\n",
        "                                          cvs_cv=5,\n",
        "                                          cvs_print=False)"
      ],
      "metadata": {
        "colab": {
          "base_uri": "https://localhost:8080/"
        },
        "id": "fq7FSEUFMdSr",
        "outputId": "3e700429-ac9f-4222-a1ca-a16f10be62c7"
      },
      "execution_count": null,
      "outputs": [
        {
          "output_type": "stream",
          "name": "stdout",
          "text": [
            "\n",
            "fitting LogisticRegression\n",
            "\n",
            "fitting SGDClassifier\n",
            "\n",
            "fitting SVC\n"
          ]
        }
      ]
    },
    {
      "cell_type": "code",
      "source": [
        "cv_dict"
      ],
      "metadata": {
        "colab": {
          "base_uri": "https://localhost:8080/",
          "height": 174
        },
        "id": "i7s135JFg-K4",
        "outputId": "dbfcdd3c-b291-47af-a498-55a786b86657"
      },
      "execution_count": null,
      "outputs": [
        {
          "output_type": "execute_result",
          "data": {
            "text/plain": [
              "                                           precision  \\\n",
              "0  {'scoring': 'precision', 'mean': 0.97949549407...   \n",
              "1  {'scoring': 'precision', 'mean': 0.98137367763...   \n",
              "2  {'scoring': 'precision', 'mean': 0.96695056165...   \n",
              "3  {'scoring': 'precision', 'mean': 0.95858841138...   \n",
              "\n",
              "                                              recall           estimator  \n",
              "0  {'scoring': 'recall', 'mean': 0.90823853319107...  LogisticRegression  \n",
              "1  {'scoring': 'recall', 'mean': 0.87669599801524...       SGDClassifier  \n",
              "2  {'scoring': 'recall', 'mean': 0.99789480882151...                 SVC  \n",
              "3   {'scoring': 'recall', 'mean': 1.0, 'stdev': 0.0}                 MNB  "
            ],
            "text/html": [
              "\n",
              "  <div id=\"df-e75fa8cb-7971-47d7-aa86-0043ad9bb1da\" class=\"colab-df-container\">\n",
              "    <div>\n",
              "<style scoped>\n",
              "    .dataframe tbody tr th:only-of-type {\n",
              "        vertical-align: middle;\n",
              "    }\n",
              "\n",
              "    .dataframe tbody tr th {\n",
              "        vertical-align: top;\n",
              "    }\n",
              "\n",
              "    .dataframe thead th {\n",
              "        text-align: right;\n",
              "    }\n",
              "</style>\n",
              "<table border=\"1\" class=\"dataframe\">\n",
              "  <thead>\n",
              "    <tr style=\"text-align: right;\">\n",
              "      <th></th>\n",
              "      <th>precision</th>\n",
              "      <th>recall</th>\n",
              "      <th>estimator</th>\n",
              "    </tr>\n",
              "  </thead>\n",
              "  <tbody>\n",
              "    <tr>\n",
              "      <th>0</th>\n",
              "      <td>{'scoring': 'precision', 'mean': 0.97949549407...</td>\n",
              "      <td>{'scoring': 'recall', 'mean': 0.90823853319107...</td>\n",
              "      <td>LogisticRegression</td>\n",
              "    </tr>\n",
              "    <tr>\n",
              "      <th>1</th>\n",
              "      <td>{'scoring': 'precision', 'mean': 0.98137367763...</td>\n",
              "      <td>{'scoring': 'recall', 'mean': 0.87669599801524...</td>\n",
              "      <td>SGDClassifier</td>\n",
              "    </tr>\n",
              "    <tr>\n",
              "      <th>2</th>\n",
              "      <td>{'scoring': 'precision', 'mean': 0.96695056165...</td>\n",
              "      <td>{'scoring': 'recall', 'mean': 0.99789480882151...</td>\n",
              "      <td>SVC</td>\n",
              "    </tr>\n",
              "    <tr>\n",
              "      <th>3</th>\n",
              "      <td>{'scoring': 'precision', 'mean': 0.95858841138...</td>\n",
              "      <td>{'scoring': 'recall', 'mean': 1.0, 'stdev': 0.0}</td>\n",
              "      <td>MNB</td>\n",
              "    </tr>\n",
              "  </tbody>\n",
              "</table>\n",
              "</div>\n",
              "    <div class=\"colab-df-buttons\">\n",
              "\n",
              "  <div class=\"colab-df-container\">\n",
              "    <button class=\"colab-df-convert\" onclick=\"convertToInteractive('df-e75fa8cb-7971-47d7-aa86-0043ad9bb1da')\"\n",
              "            title=\"Convert this dataframe to an interactive table.\"\n",
              "            style=\"display:none;\">\n",
              "\n",
              "  <svg xmlns=\"http://www.w3.org/2000/svg\" height=\"24px\" viewBox=\"0 -960 960 960\">\n",
              "    <path d=\"M120-120v-720h720v720H120Zm60-500h600v-160H180v160Zm220 220h160v-160H400v160Zm0 220h160v-160H400v160ZM180-400h160v-160H180v160Zm440 0h160v-160H620v160ZM180-180h160v-160H180v160Zm440 0h160v-160H620v160Z\"/>\n",
              "  </svg>\n",
              "    </button>\n",
              "\n",
              "  <style>\n",
              "    .colab-df-container {\n",
              "      display:flex;\n",
              "      gap: 12px;\n",
              "    }\n",
              "\n",
              "    .colab-df-convert {\n",
              "      background-color: #E8F0FE;\n",
              "      border: none;\n",
              "      border-radius: 50%;\n",
              "      cursor: pointer;\n",
              "      display: none;\n",
              "      fill: #1967D2;\n",
              "      height: 32px;\n",
              "      padding: 0 0 0 0;\n",
              "      width: 32px;\n",
              "    }\n",
              "\n",
              "    .colab-df-convert:hover {\n",
              "      background-color: #E2EBFA;\n",
              "      box-shadow: 0px 1px 2px rgba(60, 64, 67, 0.3), 0px 1px 3px 1px rgba(60, 64, 67, 0.15);\n",
              "      fill: #174EA6;\n",
              "    }\n",
              "\n",
              "    .colab-df-buttons div {\n",
              "      margin-bottom: 4px;\n",
              "    }\n",
              "\n",
              "    [theme=dark] .colab-df-convert {\n",
              "      background-color: #3B4455;\n",
              "      fill: #D2E3FC;\n",
              "    }\n",
              "\n",
              "    [theme=dark] .colab-df-convert:hover {\n",
              "      background-color: #434B5C;\n",
              "      box-shadow: 0px 1px 3px 1px rgba(0, 0, 0, 0.15);\n",
              "      filter: drop-shadow(0px 1px 2px rgba(0, 0, 0, 0.3));\n",
              "      fill: #FFFFFF;\n",
              "    }\n",
              "  </style>\n",
              "\n",
              "    <script>\n",
              "      const buttonEl =\n",
              "        document.querySelector('#df-e75fa8cb-7971-47d7-aa86-0043ad9bb1da button.colab-df-convert');\n",
              "      buttonEl.style.display =\n",
              "        google.colab.kernel.accessAllowed ? 'block' : 'none';\n",
              "\n",
              "      async function convertToInteractive(key) {\n",
              "        const element = document.querySelector('#df-e75fa8cb-7971-47d7-aa86-0043ad9bb1da');\n",
              "        const dataTable =\n",
              "          await google.colab.kernel.invokeFunction('convertToInteractive',\n",
              "                                                    [key], {});\n",
              "        if (!dataTable) return;\n",
              "\n",
              "        const docLinkHtml = 'Like what you see? Visit the ' +\n",
              "          '<a target=\"_blank\" href=https://colab.research.google.com/notebooks/data_table.ipynb>data table notebook</a>'\n",
              "          + ' to learn more about interactive tables.';\n",
              "        element.innerHTML = '';\n",
              "        dataTable['output_type'] = 'display_data';\n",
              "        await google.colab.output.renderOutput(dataTable, element);\n",
              "        const docLink = document.createElement('div');\n",
              "        docLink.innerHTML = docLinkHtml;\n",
              "        element.appendChild(docLink);\n",
              "      }\n",
              "    </script>\n",
              "  </div>\n",
              "\n",
              "\n",
              "<div id=\"df-4bba5b7f-dfb3-4c55-99d4-8dd3d00ce6e4\">\n",
              "  <button class=\"colab-df-quickchart\" onclick=\"quickchart('df-4bba5b7f-dfb3-4c55-99d4-8dd3d00ce6e4')\"\n",
              "            title=\"Suggest charts\"\n",
              "            style=\"display:none;\">\n",
              "\n",
              "<svg xmlns=\"http://www.w3.org/2000/svg\" height=\"24px\"viewBox=\"0 0 24 24\"\n",
              "     width=\"24px\">\n",
              "    <g>\n",
              "        <path d=\"M19 3H5c-1.1 0-2 .9-2 2v14c0 1.1.9 2 2 2h14c1.1 0 2-.9 2-2V5c0-1.1-.9-2-2-2zM9 17H7v-7h2v7zm4 0h-2V7h2v10zm4 0h-2v-4h2v4z\"/>\n",
              "    </g>\n",
              "</svg>\n",
              "  </button>\n",
              "\n",
              "<style>\n",
              "  .colab-df-quickchart {\n",
              "      --bg-color: #E8F0FE;\n",
              "      --fill-color: #1967D2;\n",
              "      --hover-bg-color: #E2EBFA;\n",
              "      --hover-fill-color: #174EA6;\n",
              "      --disabled-fill-color: #AAA;\n",
              "      --disabled-bg-color: #DDD;\n",
              "  }\n",
              "\n",
              "  [theme=dark] .colab-df-quickchart {\n",
              "      --bg-color: #3B4455;\n",
              "      --fill-color: #D2E3FC;\n",
              "      --hover-bg-color: #434B5C;\n",
              "      --hover-fill-color: #FFFFFF;\n",
              "      --disabled-bg-color: #3B4455;\n",
              "      --disabled-fill-color: #666;\n",
              "  }\n",
              "\n",
              "  .colab-df-quickchart {\n",
              "    background-color: var(--bg-color);\n",
              "    border: none;\n",
              "    border-radius: 50%;\n",
              "    cursor: pointer;\n",
              "    display: none;\n",
              "    fill: var(--fill-color);\n",
              "    height: 32px;\n",
              "    padding: 0;\n",
              "    width: 32px;\n",
              "  }\n",
              "\n",
              "  .colab-df-quickchart:hover {\n",
              "    background-color: var(--hover-bg-color);\n",
              "    box-shadow: 0 1px 2px rgba(60, 64, 67, 0.3), 0 1px 3px 1px rgba(60, 64, 67, 0.15);\n",
              "    fill: var(--button-hover-fill-color);\n",
              "  }\n",
              "\n",
              "  .colab-df-quickchart-complete:disabled,\n",
              "  .colab-df-quickchart-complete:disabled:hover {\n",
              "    background-color: var(--disabled-bg-color);\n",
              "    fill: var(--disabled-fill-color);\n",
              "    box-shadow: none;\n",
              "  }\n",
              "\n",
              "  .colab-df-spinner {\n",
              "    border: 2px solid var(--fill-color);\n",
              "    border-color: transparent;\n",
              "    border-bottom-color: var(--fill-color);\n",
              "    animation:\n",
              "      spin 1s steps(1) infinite;\n",
              "  }\n",
              "\n",
              "  @keyframes spin {\n",
              "    0% {\n",
              "      border-color: transparent;\n",
              "      border-bottom-color: var(--fill-color);\n",
              "      border-left-color: var(--fill-color);\n",
              "    }\n",
              "    20% {\n",
              "      border-color: transparent;\n",
              "      border-left-color: var(--fill-color);\n",
              "      border-top-color: var(--fill-color);\n",
              "    }\n",
              "    30% {\n",
              "      border-color: transparent;\n",
              "      border-left-color: var(--fill-color);\n",
              "      border-top-color: var(--fill-color);\n",
              "      border-right-color: var(--fill-color);\n",
              "    }\n",
              "    40% {\n",
              "      border-color: transparent;\n",
              "      border-right-color: var(--fill-color);\n",
              "      border-top-color: var(--fill-color);\n",
              "    }\n",
              "    60% {\n",
              "      border-color: transparent;\n",
              "      border-right-color: var(--fill-color);\n",
              "    }\n",
              "    80% {\n",
              "      border-color: transparent;\n",
              "      border-right-color: var(--fill-color);\n",
              "      border-bottom-color: var(--fill-color);\n",
              "    }\n",
              "    90% {\n",
              "      border-color: transparent;\n",
              "      border-bottom-color: var(--fill-color);\n",
              "    }\n",
              "  }\n",
              "</style>\n",
              "\n",
              "  <script>\n",
              "    async function quickchart(key) {\n",
              "      const quickchartButtonEl =\n",
              "        document.querySelector('#' + key + ' button');\n",
              "      quickchartButtonEl.disabled = true;  // To prevent multiple clicks.\n",
              "      quickchartButtonEl.classList.add('colab-df-spinner');\n",
              "      try {\n",
              "        const charts = await google.colab.kernel.invokeFunction(\n",
              "            'suggestCharts', [key], {});\n",
              "      } catch (error) {\n",
              "        console.error('Error during call to suggestCharts:', error);\n",
              "      }\n",
              "      quickchartButtonEl.classList.remove('colab-df-spinner');\n",
              "      quickchartButtonEl.classList.add('colab-df-quickchart-complete');\n",
              "    }\n",
              "    (() => {\n",
              "      let quickchartButtonEl =\n",
              "        document.querySelector('#df-4bba5b7f-dfb3-4c55-99d4-8dd3d00ce6e4 button');\n",
              "      quickchartButtonEl.style.display =\n",
              "        google.colab.kernel.accessAllowed ? 'block' : 'none';\n",
              "    })();\n",
              "  </script>\n",
              "</div>\n",
              "    </div>\n",
              "  </div>\n"
            ],
            "application/vnd.google.colaboratory.intrinsic+json": {
              "type": "dataframe",
              "variable_name": "cv_dict",
              "summary": "{\n  \"name\": \"cv_dict\",\n  \"rows\": 4,\n  \"fields\": [\n    {\n      \"column\": \"precision\",\n      \"properties\": {\n        \"dtype\": \"object\",\n        \"semantic_type\": \"\",\n        \"description\": \"\"\n      }\n    },\n    {\n      \"column\": \"recall\",\n      \"properties\": {\n        \"dtype\": \"object\",\n        \"semantic_type\": \"\",\n        \"description\": \"\"\n      }\n    },\n    {\n      \"column\": \"estimator\",\n      \"properties\": {\n        \"dtype\": \"string\",\n        \"num_unique_values\": 4,\n        \"samples\": [\n          \"SGDClassifier\",\n          \"MNB\",\n          \"LogisticRegression\"\n        ],\n        \"semantic_type\": \"\",\n        \"description\": \"\"\n      }\n    }\n  ]\n}"
            }
          },
          "metadata": {},
          "execution_count": 40
        }
      ]
    },
    {
      "cell_type": "markdown",
      "source": [
        "Since the aim of this project is to maximise the Recall, we would choose the models with best potential to maximise recall score amongst all tested.\n",
        "\n",
        "SVC has the best balance between Recall and Precision.\n",
        "The MNB model also performed satisfactorily."
      ],
      "metadata": {
        "id": "9W6P1ReghY9t"
      }
    },
    {
      "cell_type": "markdown",
      "source": [
        "###Evaluate Best Recall Trained Estimators on Validation Set"
      ],
      "metadata": {
        "id": "CoSVbcqV9all"
      }
    },
    {
      "cell_type": "markdown",
      "source": [
        "#### Refit Best Models on Stratified Train Set without Cross Validation"
      ],
      "metadata": {
        "id": "MMbMvErNcsyb"
      }
    },
    {
      "cell_type": "code",
      "source": [
        "eval_estimator_names = ['SVC','MNB']\n",
        "\n",
        "eval_estimator_list = [\n",
        "    SVC(class_weight=weight, random_state=model_rndm_st, probability=True),\n",
        "    MultinomialNB()\n",
        "    ]\n",
        "\n",
        "print_plots = True\n",
        "class_eval_dict={\n",
        "    'scoring': 'average_precision',\n",
        "    'get_precision_recall_curves': [True,\n",
        "                                    {'print_prc': print_plots,\n",
        "                                     'print_prd': print_plots\n",
        "                                    }]\n",
        "}"
      ],
      "metadata": {
        "id": "ZqJ8bgzkhOL3"
      },
      "execution_count": null,
      "outputs": []
    },
    {
      "cell_type": "code",
      "source": [
        "default_train_compare_df, trained_default_estimator_dict = \\\n",
        "    fit_collection_of_estimators_title_attr(\n",
        "        eval_estimator_names,\n",
        "        eval_estimator_list,\n",
        "        str_cap_x,\n",
        "        str_y,\n",
        "        data_set_type='train',\n",
        "        model_selection_stage='Default',\n",
        "        class_eval_dict=class_eval_dict\n",
        ")\n",
        "default_train_compare_df"
      ],
      "metadata": {
        "colab": {
          "base_uri": "https://localhost:8080/",
          "height": 1000
        },
        "id": "6LJku_X_c9Yw",
        "outputId": "537214b6-eca3-4388-fe13-fee850004ec2"
      },
      "execution_count": null,
      "outputs": [
        {
          "output_type": "stream",
          "name": "stdout",
          "text": [
            "\n",
            "fitting SVC\n",
            "\n",
            "fitting MNB\n",
            "\n",
            "**************************************************\n"
          ]
        },
        {
          "output_type": "display_data",
          "data": {
            "text/plain": [
              "<Figure size 640x480 with 1 Axes>"
            ],
            "image/png": "[encoded data removed]"
          },
          "metadata": {}
        },
        {
          "output_type": "stream",
          "name": "stdout",
          "text": [
            "\n",
            "precision-recall curve:\n",
            "\n"
          ]
        },
        {
          "output_type": "display_data",
          "data": {
            "text/plain": [
              "<Figure size 640x480 with 1 Axes>"
            ],
            "image/png": "[encoded data removed]"
          },
          "metadata": {}
        },
        {
          "output_type": "stream",
          "name": "stdout",
          "text": [
            "Default of the SVC estimator predicting on the train data set\n",
            "Average Precision score: 0.9999898562135396\n",
            "Average Recall score: 0.9995311974808498\n",
            "\n",
            "\n",
            "**************************************************\n"
          ]
        },
        {
          "output_type": "display_data",
          "data": {
            "text/plain": [
              "<Figure size 640x480 with 1 Axes>"
            ],
            "image/png": "[encoded data removed]"
          },
          "metadata": {}
        },
        {
          "output_type": "stream",
          "name": "stdout",
          "text": [
            "\n",
            "precision-recall curve:\n",
            "\n"
          ]
        },
        {
          "output_type": "display_data",
          "data": {
            "text/plain": [
              "<Figure size 640x480 with 1 Axes>"
            ],
            "image/png": "[encoded data removed]"
          },
          "metadata": {}
        },
        {
          "output_type": "stream",
          "name": "stdout",
          "text": [
            "Default of the MNB estimator predicting on the train data set\n",
            "Average Precision score: 0.9861143307069138\n",
            "Average Recall score: 0.5004006550789504\n",
            "\n"
          ]
        },
        {
          "output_type": "execute_result",
          "data": {
            "text/plain": [
              "   ave_precision_score  ave_recall_score estimator data_set_type  \\\n",
              "0             0.999990          0.999531       SVC         train   \n",
              "1             0.986114          0.500401       MNB         train   \n",
              "\n",
              "  model_selection_stage  \n",
              "0               Default  \n",
              "1               Default  "
            ],
            "text/html": [
              "\n",
              "  <div id=\"df-334569f0-53a1-4668-ac90-8408fb917b2f\" class=\"colab-df-container\">\n",
              "    <div>\n",
              "<style scoped>\n",
              "    .dataframe tbody tr th:only-of-type {\n",
              "        vertical-align: middle;\n",
              "    }\n",
              "\n",
              "    .dataframe tbody tr th {\n",
              "        vertical-align: top;\n",
              "    }\n",
              "\n",
              "    .dataframe thead th {\n",
              "        text-align: right;\n",
              "    }\n",
              "</style>\n",
              "<table border=\"1\" class=\"dataframe\">\n",
              "  <thead>\n",
              "    <tr style=\"text-align: right;\">\n",
              "      <th></th>\n",
              "      <th>ave_precision_score</th>\n",
              "      <th>ave_recall_score</th>\n",
              "      <th>estimator</th>\n",
              "      <th>data_set_type</th>\n",
              "      <th>model_selection_stage</th>\n",
              "    </tr>\n",
              "  </thead>\n",
              "  <tbody>\n",
              "    <tr>\n",
              "      <th>0</th>\n",
              "      <td>0.999990</td>\n",
              "      <td>0.999531</td>\n",
              "      <td>SVC</td>\n",
              "      <td>train</td>\n",
              "      <td>Default</td>\n",
              "    </tr>\n",
              "    <tr>\n",
              "      <th>1</th>\n",
              "      <td>0.986114</td>\n",
              "      <td>0.500401</td>\n",
              "      <td>MNB</td>\n",
              "      <td>train</td>\n",
              "      <td>Default</td>\n",
              "    </tr>\n",
              "  </tbody>\n",
              "</table>\n",
              "</div>\n",
              "    <div class=\"colab-df-buttons\">\n",
              "\n",
              "  <div class=\"colab-df-container\">\n",
              "    <button class=\"colab-df-convert\" onclick=\"convertToInteractive('df-334569f0-53a1-4668-ac90-8408fb917b2f')\"\n",
              "            title=\"Convert this dataframe to an interactive table.\"\n",
              "            style=\"display:none;\">\n",
              "\n",
              "  <svg xmlns=\"http://www.w3.org/2000/svg\" height=\"24px\" viewBox=\"0 -960 960 960\">\n",
              "    <path d=\"M120-120v-720h720v720H120Zm60-500h600v-160H180v160Zm220 220h160v-160H400v160Zm0 220h160v-160H400v160ZM180-400h160v-160H180v160Zm440 0h160v-160H620v160ZM180-180h160v-160H180v160Zm440 0h160v-160H620v160Z\"/>\n",
              "  </svg>\n",
              "    </button>\n",
              "\n",
              "  <style>\n",
              "    .colab-df-container {\n",
              "      display:flex;\n",
              "      gap: 12px;\n",
              "    }\n",
              "\n",
              "    .colab-df-convert {\n",
              "      background-color: #E8F0FE;\n",
              "      border: none;\n",
              "      border-radius: 50%;\n",
              "      cursor: pointer;\n",
              "      display: none;\n",
              "      fill: #1967D2;\n",
              "      height: 32px;\n",
              "      padding: 0 0 0 0;\n",
              "      width: 32px;\n",
              "    }\n",
              "\n",
              "    .colab-df-convert:hover {\n",
              "      background-color: #E2EBFA;\n",
              "      box-shadow: 0px 1px 2px rgba(60, 64, 67, 0.3), 0px 1px 3px 1px rgba(60, 64, 67, 0.15);\n",
              "      fill: #174EA6;\n",
              "    }\n",
              "\n",
              "    .colab-df-buttons div {\n",
              "      margin-bottom: 4px;\n",
              "    }\n",
              "\n",
              "    [theme=dark] .colab-df-convert {\n",
              "      background-color: #3B4455;\n",
              "      fill: #D2E3FC;\n",
              "    }\n",
              "\n",
              "    [theme=dark] .colab-df-convert:hover {\n",
              "      background-color: #434B5C;\n",
              "      box-shadow: 0px 1px 3px 1px rgba(0, 0, 0, 0.15);\n",
              "      filter: drop-shadow(0px 1px 2px rgba(0, 0, 0, 0.3));\n",
              "      fill: #FFFFFF;\n",
              "    }\n",
              "  </style>\n",
              "\n",
              "    <script>\n",
              "      const buttonEl =\n",
              "        document.querySelector('#df-334569f0-53a1-4668-ac90-8408fb917b2f button.colab-df-convert');\n",
              "      buttonEl.style.display =\n",
              "        google.colab.kernel.accessAllowed ? 'block' : 'none';\n",
              "\n",
              "      async function convertToInteractive(key) {\n",
              "        const element = document.querySelector('#df-334569f0-53a1-4668-ac90-8408fb917b2f');\n",
              "        const dataTable =\n",
              "          await google.colab.kernel.invokeFunction('convertToInteractive',\n",
              "                                                    [key], {});\n",
              "        if (!dataTable) return;\n",
              "\n",
              "        const docLinkHtml = 'Like what you see? Visit the ' +\n",
              "          '<a target=\"_blank\" href=https://colab.research.google.com/notebooks/data_table.ipynb>data table notebook</a>'\n",
              "          + ' to learn more about interactive tables.';\n",
              "        element.innerHTML = '';\n",
              "        dataTable['output_type'] = 'display_data';\n",
              "        await google.colab.output.renderOutput(dataTable, element);\n",
              "        const docLink = document.createElement('div');\n",
              "        docLink.innerHTML = docLinkHtml;\n",
              "        element.appendChild(docLink);\n",
              "      }\n",
              "    </script>\n",
              "  </div>\n",
              "\n",
              "\n",
              "<div id=\"df-eb5fe751-771a-4ca0-b92b-244bfd3962a9\">\n",
              "  <button class=\"colab-df-quickchart\" onclick=\"quickchart('df-eb5fe751-771a-4ca0-b92b-244bfd3962a9')\"\n",
              "            title=\"Suggest charts\"\n",
              "            style=\"display:none;\">\n",
              "\n",
              "<svg xmlns=\"http://www.w3.org/2000/svg\" height=\"24px\"viewBox=\"0 0 24 24\"\n",
              "     width=\"24px\">\n",
              "    <g>\n",
              "        <path d=\"M19 3H5c-1.1 0-2 .9-2 2v14c0 1.1.9 2 2 2h14c1.1 0 2-.9 2-2V5c0-1.1-.9-2-2-2zM9 17H7v-7h2v7zm4 0h-2V7h2v10zm4 0h-2v-4h2v4z\"/>\n",
              "    </g>\n",
              "</svg>\n",
              "  </button>\n",
              "\n",
              "<style>\n",
              "  .colab-df-quickchart {\n",
              "      --bg-color: #E8F0FE;\n",
              "      --fill-color: #1967D2;\n",
              "      --hover-bg-color: #E2EBFA;\n",
              "      --hover-fill-color: #174EA6;\n",
              "      --disabled-fill-color: #AAA;\n",
              "      --disabled-bg-color: #DDD;\n",
              "  }\n",
              "\n",
              "  [theme=dark] .colab-df-quickchart {\n",
              "      --bg-color: #3B4455;\n",
              "      --fill-color: #D2E3FC;\n",
              "      --hover-bg-color: #434B5C;\n",
              "      --hover-fill-color: #FFFFFF;\n",
              "      --disabled-bg-color: #3B4455;\n",
              "      --disabled-fill-color: #666;\n",
              "  }\n",
              "\n",
              "  .colab-df-quickchart {\n",
              "    background-color: var(--bg-color);\n",
              "    border: none;\n",
              "    border-radius: 50%;\n",
              "    cursor: pointer;\n",
              "    display: none;\n",
              "    fill: var(--fill-color);\n",
              "    height: 32px;\n",
              "    padding: 0;\n",
              "    width: 32px;\n",
              "  }\n",
              "\n",
              "  .colab-df-quickchart:hover {\n",
              "    background-color: var(--hover-bg-color);\n",
              "    box-shadow: 0 1px 2px rgba(60, 64, 67, 0.3), 0 1px 3px 1px rgba(60, 64, 67, 0.15);\n",
              "    fill: var(--button-hover-fill-color);\n",
              "  }\n",
              "\n",
              "  .colab-df-quickchart-complete:disabled,\n",
              "  .colab-df-quickchart-complete:disabled:hover {\n",
              "    background-color: var(--disabled-bg-color);\n",
              "    fill: var(--disabled-fill-color);\n",
              "    box-shadow: none;\n",
              "  }\n",
              "\n",
              "  .colab-df-spinner {\n",
              "    border: 2px solid var(--fill-color);\n",
              "    border-color: transparent;\n",
              "    border-bottom-color: var(--fill-color);\n",
              "    animation:\n",
              "      spin 1s steps(1) infinite;\n",
              "  }\n",
              "\n",
              "  @keyframes spin {\n",
              "    0% {\n",
              "      border-color: transparent;\n",
              "      border-bottom-color: var(--fill-color);\n",
              "      border-left-color: var(--fill-color);\n",
              "    }\n",
              "    20% {\n",
              "      border-color: transparent;\n",
              "      border-left-color: var(--fill-color);\n",
              "      border-top-color: var(--fill-color);\n",
              "    }\n",
              "    30% {\n",
              "      border-color: transparent;\n",
              "      border-left-color: var(--fill-color);\n",
              "      border-top-color: var(--fill-color);\n",
              "      border-right-color: var(--fill-color);\n",
              "    }\n",
              "    40% {\n",
              "      border-color: transparent;\n",
              "      border-right-color: var(--fill-color);\n",
              "      border-top-color: var(--fill-color);\n",
              "    }\n",
              "    60% {\n",
              "      border-color: transparent;\n",
              "      border-right-color: var(--fill-color);\n",
              "    }\n",
              "    80% {\n",
              "      border-color: transparent;\n",
              "      border-right-color: var(--fill-color);\n",
              "      border-bottom-color: var(--fill-color);\n",
              "    }\n",
              "    90% {\n",
              "      border-color: transparent;\n",
              "      border-bottom-color: var(--fill-color);\n",
              "    }\n",
              "  }\n",
              "</style>\n",
              "\n",
              "  <script>\n",
              "    async function quickchart(key) {\n",
              "      const quickchartButtonEl =\n",
              "        document.querySelector('#' + key + ' button');\n",
              "      quickchartButtonEl.disabled = true;  // To prevent multiple clicks.\n",
              "      quickchartButtonEl.classList.add('colab-df-spinner');\n",
              "      try {\n",
              "        const charts = await google.colab.kernel.invokeFunction(\n",
              "            'suggestCharts', [key], {});\n",
              "      } catch (error) {\n",
              "        console.error('Error during call to suggestCharts:', error);\n",
              "      }\n",
              "      quickchartButtonEl.classList.remove('colab-df-spinner');\n",
              "      quickchartButtonEl.classList.add('colab-df-quickchart-complete');\n",
              "    }\n",
              "    (() => {\n",
              "      let quickchartButtonEl =\n",
              "        document.querySelector('#df-eb5fe751-771a-4ca0-b92b-244bfd3962a9 button');\n",
              "      quickchartButtonEl.style.display =\n",
              "        google.colab.kernel.accessAllowed ? 'block' : 'none';\n",
              "    })();\n",
              "  </script>\n",
              "</div>\n",
              "    </div>\n",
              "  </div>\n"
            ],
            "application/vnd.google.colaboratory.intrinsic+json": {
              "type": "dataframe",
              "variable_name": "default_train_compare_df",
              "summary": "{\n  \"name\": \"default_train_compare_df\",\n  \"rows\": 2,\n  \"fields\": [\n    {\n      \"column\": \"ave_precision_score\",\n      \"properties\": {\n        \"dtype\": \"number\",\n        \"std\": 0.009811478178262046,\n        \"min\": 0.9861143307069138,\n        \"max\": 0.9999898562135396,\n        \"num_unique_values\": 2,\n        \"samples\": [\n          0.9861143307069138,\n          0.9999898562135396\n        ],\n        \"semantic_type\": \"\",\n        \"description\": \"\"\n      }\n    },\n    {\n      \"column\": \"ave_recall_score\",\n      \"properties\": {\n        \"dtype\": \"number\",\n        \"std\": 0.3529385912297027,\n        \"min\": 0.5004006550789504,\n        \"max\": 0.9995311974808498,\n        \"num_unique_values\": 2,\n        \"samples\": [\n          0.5004006550789504,\n          0.9995311974808498\n        ],\n        \"semantic_type\": \"\",\n        \"description\": \"\"\n      }\n    },\n    {\n      \"column\": \"estimator\",\n      \"properties\": {\n        \"dtype\": \"string\",\n        \"num_unique_values\": 2,\n        \"samples\": [\n          \"MNB\",\n          \"SVC\"\n        ],\n        \"semantic_type\": \"\",\n        \"description\": \"\"\n      }\n    },\n    {\n      \"column\": \"data_set_type\",\n      \"properties\": {\n        \"dtype\": \"string\",\n        \"num_unique_values\": 1,\n        \"samples\": [\n          \"train\"\n        ],\n        \"semantic_type\": \"\",\n        \"description\": \"\"\n      }\n    },\n    {\n      \"column\": \"model_selection_stage\",\n      \"properties\": {\n        \"dtype\": \"string\",\n        \"num_unique_values\": 1,\n        \"samples\": [\n          \"Default\"\n        ],\n        \"semantic_type\": \"\",\n        \"description\": \"\"\n      }\n    }\n  ]\n}"
            }
          },
          "metadata": {},
          "execution_count": 23
        }
      ]
    },
    {
      "cell_type": "markdown",
      "source": [
        "####Eval on Val Set"
      ],
      "metadata": {
        "id": "7vxgoaVyc7BH"
      }
    },
    {
      "cell_type": "code",
      "source": [
        "default_validation_compare_df = eval_trained_estimators_in_trained_estimator_dict_class(\n",
        "    trained_default_estimator_dict,\n",
        "    val_cap_x,\n",
        "    val_y,\n",
        "    data_set_type='validation',\n",
        "    model_selection_stage='default',\n",
        "    class_eval_dict=class_eval_dict\n",
        ")\n",
        "default_validation_compare_df"
      ],
      "metadata": {
        "colab": {
          "base_uri": "https://localhost:8080/",
          "height": 1000
        },
        "id": "rN3kEukq-Q8t",
        "outputId": "8d8e0b8a-b10f-4550-8904-713ed3f1dd9c"
      },
      "execution_count": null,
      "outputs": [
        {
          "output_type": "stream",
          "name": "stdout",
          "text": [
            "\n",
            "**************************************************\n"
          ]
        },
        {
          "output_type": "display_data",
          "data": {
            "text/plain": [
              "<Figure size 640x480 with 1 Axes>"
            ],
            "image/png": "[encoded data removed]"
          },
          "metadata": {}
        },
        {
          "output_type": "stream",
          "name": "stdout",
          "text": [
            "\n",
            "precision-recall curve:\n",
            "\n"
          ]
        },
        {
          "output_type": "display_data",
          "data": {
            "text/plain": [
              "<Figure size 640x480 with 1 Axes>"
            ],
            "image/png": "[encoded data removed]"
          },
          "metadata": {}
        },
        {
          "output_type": "stream",
          "name": "stdout",
          "text": [
            "default of the SVC estimator predicting on the validation data set\n",
            "Average Precision score: 0.9913246014516113\n",
            "Average Recall score: 0.6174078033771826\n",
            "\n",
            "\n",
            "**************************************************\n"
          ]
        },
        {
          "output_type": "display_data",
          "data": {
            "text/plain": [
              "<Figure size 640x480 with 1 Axes>"
            ],
            "image/png": "[encoded data removed]"
          },
          "metadata": {}
        },
        {
          "output_type": "stream",
          "name": "stdout",
          "text": [
            "\n",
            "precision-recall curve:\n",
            "\n"
          ]
        },
        {
          "output_type": "display_data",
          "data": {
            "text/plain": [
              "<Figure size 640x480 with 1 Axes>"
            ],
            "image/png": "[encoded data removed]"
          },
          "metadata": {}
        },
        {
          "output_type": "stream",
          "name": "stdout",
          "text": [
            "default of the MNB estimator predicting on the validation data set\n",
            "Average Precision score: 0.9804173175241356\n",
            "Average Recall score: 0.5\n",
            "\n"
          ]
        },
        {
          "output_type": "execute_result",
          "data": {
            "text/plain": [
              "   ave_precision_score  ave_recall_score estimator data_set_type  \\\n",
              "0             0.991325          0.617408       SVC    validation   \n",
              "1             0.980417          0.500000       MNB    validation   \n",
              "\n",
              "  model_selection_stage  \n",
              "0               default  \n",
              "1               default  "
            ],
            "text/html": [
              "\n",
              "  <div id=\"df-f10d347c-84ce-4b93-ba43-fa4f08dcdd0e\" class=\"colab-df-container\">\n",
              "    <div>\n",
              "<style scoped>\n",
              "    .dataframe tbody tr th:only-of-type {\n",
              "        vertical-align: middle;\n",
              "    }\n",
              "\n",
              "    .dataframe tbody tr th {\n",
              "        vertical-align: top;\n",
              "    }\n",
              "\n",
              "    .dataframe thead th {\n",
              "        text-align: right;\n",
              "    }\n",
              "</style>\n",
              "<table border=\"1\" class=\"dataframe\">\n",
              "  <thead>\n",
              "    <tr style=\"text-align: right;\">\n",
              "      <th></th>\n",
              "      <th>ave_precision_score</th>\n",
              "      <th>ave_recall_score</th>\n",
              "      <th>estimator</th>\n",
              "      <th>data_set_type</th>\n",
              "      <th>model_selection_stage</th>\n",
              "    </tr>\n",
              "  </thead>\n",
              "  <tbody>\n",
              "    <tr>\n",
              "      <th>0</th>\n",
              "      <td>0.991325</td>\n",
              "      <td>0.617408</td>\n",
              "      <td>SVC</td>\n",
              "      <td>validation</td>\n",
              "      <td>default</td>\n",
              "    </tr>\n",
              "    <tr>\n",
              "      <th>1</th>\n",
              "      <td>0.980417</td>\n",
              "      <td>0.500000</td>\n",
              "      <td>MNB</td>\n",
              "      <td>validation</td>\n",
              "      <td>default</td>\n",
              "    </tr>\n",
              "  </tbody>\n",
              "</table>\n",
              "</div>\n",
              "    <div class=\"colab-df-buttons\">\n",
              "\n",
              "  <div class=\"colab-df-container\">\n",
              "    <button class=\"colab-df-convert\" onclick=\"convertToInteractive('df-f10d347c-84ce-4b93-ba43-fa4f08dcdd0e')\"\n",
              "            title=\"Convert this dataframe to an interactive table.\"\n",
              "            style=\"display:none;\">\n",
              "\n",
              "  <svg xmlns=\"http://www.w3.org/2000/svg\" height=\"24px\" viewBox=\"0 -960 960 960\">\n",
              "    <path d=\"M120-120v-720h720v720H120Zm60-500h600v-160H180v160Zm220 220h160v-160H400v160Zm0 220h160v-160H400v160ZM180-400h160v-160H180v160Zm440 0h160v-160H620v160ZM180-180h160v-160H180v160Zm440 0h160v-160H620v160Z\"/>\n",
              "  </svg>\n",
              "    </button>\n",
              "\n",
              "  <style>\n",
              "    .colab-df-container {\n",
              "      display:flex;\n",
              "      gap: 12px;\n",
              "    }\n",
              "\n",
              "    .colab-df-convert {\n",
              "      background-color: #E8F0FE;\n",
              "      border: none;\n",
              "      border-radius: 50%;\n",
              "      cursor: pointer;\n",
              "      display: none;\n",
              "      fill: #1967D2;\n",
              "      height: 32px;\n",
              "      padding: 0 0 0 0;\n",
              "      width: 32px;\n",
              "    }\n",
              "\n",
              "    .colab-df-convert:hover {\n",
              "      background-color: #E2EBFA;\n",
              "      box-shadow: 0px 1px 2px rgba(60, 64, 67, 0.3), 0px 1px 3px 1px rgba(60, 64, 67, 0.15);\n",
              "      fill: #174EA6;\n",
              "    }\n",
              "\n",
              "    .colab-df-buttons div {\n",
              "      margin-bottom: 4px;\n",
              "    }\n",
              "\n",
              "    [theme=dark] .colab-df-convert {\n",
              "      background-color: #3B4455;\n",
              "      fill: #D2E3FC;\n",
              "    }\n",
              "\n",
              "    [theme=dark] .colab-df-convert:hover {\n",
              "      background-color: #434B5C;\n",
              "      box-shadow: 0px 1px 3px 1px rgba(0, 0, 0, 0.15);\n",
              "      filter: drop-shadow(0px 1px 2px rgba(0, 0, 0, 0.3));\n",
              "      fill: #FFFFFF;\n",
              "    }\n",
              "  </style>\n",
              "\n",
              "    <script>\n",
              "      const buttonEl =\n",
              "        document.querySelector('#df-f10d347c-84ce-4b93-ba43-fa4f08dcdd0e button.colab-df-convert');\n",
              "      buttonEl.style.display =\n",
              "        google.colab.kernel.accessAllowed ? 'block' : 'none';\n",
              "\n",
              "      async function convertToInteractive(key) {\n",
              "        const element = document.querySelector('#df-f10d347c-84ce-4b93-ba43-fa4f08dcdd0e');\n",
              "        const dataTable =\n",
              "          await google.colab.kernel.invokeFunction('convertToInteractive',\n",
              "                                                    [key], {});\n",
              "        if (!dataTable) return;\n",
              "\n",
              "        const docLinkHtml = 'Like what you see? Visit the ' +\n",
              "          '<a target=\"_blank\" href=https://colab.research.google.com/notebooks/data_table.ipynb>data table notebook</a>'\n",
              "          + ' to learn more about interactive tables.';\n",
              "        element.innerHTML = '';\n",
              "        dataTable['output_type'] = 'display_data';\n",
              "        await google.colab.output.renderOutput(dataTable, element);\n",
              "        const docLink = document.createElement('div');\n",
              "        docLink.innerHTML = docLinkHtml;\n",
              "        element.appendChild(docLink);\n",
              "      }\n",
              "    </script>\n",
              "  </div>\n",
              "\n",
              "\n",
              "<div id=\"df-f27a7ee0-a6b2-4166-9200-5002ce1d16d3\">\n",
              "  <button class=\"colab-df-quickchart\" onclick=\"quickchart('df-f27a7ee0-a6b2-4166-9200-5002ce1d16d3')\"\n",
              "            title=\"Suggest charts\"\n",
              "            style=\"display:none;\">\n",
              "\n",
              "<svg xmlns=\"http://www.w3.org/2000/svg\" height=\"24px\"viewBox=\"0 0 24 24\"\n",
              "     width=\"24px\">\n",
              "    <g>\n",
              "        <path d=\"M19 3H5c-1.1 0-2 .9-2 2v14c0 1.1.9 2 2 2h14c1.1 0 2-.9 2-2V5c0-1.1-.9-2-2-2zM9 17H7v-7h2v7zm4 0h-2V7h2v10zm4 0h-2v-4h2v4z\"/>\n",
              "    </g>\n",
              "</svg>\n",
              "  </button>\n",
              "\n",
              "<style>\n",
              "  .colab-df-quickchart {\n",
              "      --bg-color: #E8F0FE;\n",
              "      --fill-color: #1967D2;\n",
              "      --hover-bg-color: #E2EBFA;\n",
              "      --hover-fill-color: #174EA6;\n",
              "      --disabled-fill-color: #AAA;\n",
              "      --disabled-bg-color: #DDD;\n",
              "  }\n",
              "\n",
              "  [theme=dark] .colab-df-quickchart {\n",
              "      --bg-color: #3B4455;\n",
              "      --fill-color: #D2E3FC;\n",
              "      --hover-bg-color: #434B5C;\n",
              "      --hover-fill-color: #FFFFFF;\n",
              "      --disabled-bg-color: #3B4455;\n",
              "      --disabled-fill-color: #666;\n",
              "  }\n",
              "\n",
              "  .colab-df-quickchart {\n",
              "    background-color: var(--bg-color);\n",
              "    border: none;\n",
              "    border-radius: 50%;\n",
              "    cursor: pointer;\n",
              "    display: none;\n",
              "    fill: var(--fill-color);\n",
              "    height: 32px;\n",
              "    padding: 0;\n",
              "    width: 32px;\n",
              "  }\n",
              "\n",
              "  .colab-df-quickchart:hover {\n",
              "    background-color: var(--hover-bg-color);\n",
              "    box-shadow: 0 1px 2px rgba(60, 64, 67, 0.3), 0 1px 3px 1px rgba(60, 64, 67, 0.15);\n",
              "    fill: var(--button-hover-fill-color);\n",
              "  }\n",
              "\n",
              "  .colab-df-quickchart-complete:disabled,\n",
              "  .colab-df-quickchart-complete:disabled:hover {\n",
              "    background-color: var(--disabled-bg-color);\n",
              "    fill: var(--disabled-fill-color);\n",
              "    box-shadow: none;\n",
              "  }\n",
              "\n",
              "  .colab-df-spinner {\n",
              "    border: 2px solid var(--fill-color);\n",
              "    border-color: transparent;\n",
              "    border-bottom-color: var(--fill-color);\n",
              "    animation:\n",
              "      spin 1s steps(1) infinite;\n",
              "  }\n",
              "\n",
              "  @keyframes spin {\n",
              "    0% {\n",
              "      border-color: transparent;\n",
              "      border-bottom-color: var(--fill-color);\n",
              "      border-left-color: var(--fill-color);\n",
              "    }\n",
              "    20% {\n",
              "      border-color: transparent;\n",
              "      border-left-color: var(--fill-color);\n",
              "      border-top-color: var(--fill-color);\n",
              "    }\n",
              "    30% {\n",
              "      border-color: transparent;\n",
              "      border-left-color: var(--fill-color);\n",
              "      border-top-color: var(--fill-color);\n",
              "      border-right-color: var(--fill-color);\n",
              "    }\n",
              "    40% {\n",
              "      border-color: transparent;\n",
              "      border-right-color: var(--fill-color);\n",
              "      border-top-color: var(--fill-color);\n",
              "    }\n",
              "    60% {\n",
              "      border-color: transparent;\n",
              "      border-right-color: var(--fill-color);\n",
              "    }\n",
              "    80% {\n",
              "      border-color: transparent;\n",
              "      border-right-color: var(--fill-color);\n",
              "      border-bottom-color: var(--fill-color);\n",
              "    }\n",
              "    90% {\n",
              "      border-color: transparent;\n",
              "      border-bottom-color: var(--fill-color);\n",
              "    }\n",
              "  }\n",
              "</style>\n",
              "\n",
              "  <script>\n",
              "    async function quickchart(key) {\n",
              "      const quickchartButtonEl =\n",
              "        document.querySelector('#' + key + ' button');\n",
              "      quickchartButtonEl.disabled = true;  // To prevent multiple clicks.\n",
              "      quickchartButtonEl.classList.add('colab-df-spinner');\n",
              "      try {\n",
              "        const charts = await google.colab.kernel.invokeFunction(\n",
              "            'suggestCharts', [key], {});\n",
              "      } catch (error) {\n",
              "        console.error('Error during call to suggestCharts:', error);\n",
              "      }\n",
              "      quickchartButtonEl.classList.remove('colab-df-spinner');\n",
              "      quickchartButtonEl.classList.add('colab-df-quickchart-complete');\n",
              "    }\n",
              "    (() => {\n",
              "      let quickchartButtonEl =\n",
              "        document.querySelector('#df-f27a7ee0-a6b2-4166-9200-5002ce1d16d3 button');\n",
              "      quickchartButtonEl.style.display =\n",
              "        google.colab.kernel.accessAllowed ? 'block' : 'none';\n",
              "    })();\n",
              "  </script>\n",
              "</div>\n",
              "    </div>\n",
              "  </div>\n"
            ],
            "application/vnd.google.colaboratory.intrinsic+json": {
              "type": "dataframe",
              "variable_name": "default_validation_compare_df",
              "summary": "{\n  \"name\": \"default_validation_compare_df\",\n  \"rows\": 2,\n  \"fields\": [\n    {\n      \"column\": \"ave_precision_score\",\n      \"properties\": {\n        \"dtype\": \"number\",\n        \"std\": 0.007712614429445065,\n        \"min\": 0.9804173175241356,\n        \"max\": 0.9913246014516113,\n        \"num_unique_values\": 2,\n        \"samples\": [\n          0.9804173175241356,\n          0.9913246014516113\n        ],\n        \"semantic_type\": \"\",\n        \"description\": \"\"\n      }\n    },\n    {\n      \"column\": \"ave_recall_score\",\n      \"properties\": {\n        \"dtype\": \"number\",\n        \"std\": 0.08301985393222265,\n        \"min\": 0.5,\n        \"max\": 0.6174078033771826,\n        \"num_unique_values\": 2,\n        \"samples\": [\n          0.5,\n          0.6174078033771826\n        ],\n        \"semantic_type\": \"\",\n        \"description\": \"\"\n      }\n    },\n    {\n      \"column\": \"estimator\",\n      \"properties\": {\n        \"dtype\": \"string\",\n        \"num_unique_values\": 2,\n        \"samples\": [\n          \"MNB\",\n          \"SVC\"\n        ],\n        \"semantic_type\": \"\",\n        \"description\": \"\"\n      }\n    },\n    {\n      \"column\": \"data_set_type\",\n      \"properties\": {\n        \"dtype\": \"string\",\n        \"num_unique_values\": 1,\n        \"samples\": [\n          \"validation\"\n        ],\n        \"semantic_type\": \"\",\n        \"description\": \"\"\n      }\n    },\n    {\n      \"column\": \"model_selection_stage\",\n      \"properties\": {\n        \"dtype\": \"string\",\n        \"num_unique_values\": 1,\n        \"samples\": [\n          \"default\"\n        ],\n        \"semantic_type\": \"\",\n        \"description\": \"\"\n      }\n    }\n  ]\n}"
            }
          },
          "metadata": {},
          "execution_count": 24
        }
      ]
    },
    {
      "cell_type": "markdown",
      "source": [
        "The SGDClassifier gives a better balance between precision and recall."
      ],
      "metadata": {
        "id": "mrolki9Z1Q-M"
      }
    },
    {
      "cell_type": "markdown",
      "source": [
        "#### Eval on Test Set"
      ],
      "metadata": {
        "id": "ckBhNqNfoWN9"
      }
    },
    {
      "cell_type": "code",
      "source": [
        "test_df = pd.read_csv('test_data.csv', index_col=0)\n",
        "ts_cap_x, ts_y = get_x_y(test_df, 'title', 'trustworthiness')"
      ],
      "metadata": {
        "id": "zleEon3308ii"
      },
      "execution_count": null,
      "outputs": []
    },
    {
      "cell_type": "code",
      "source": [
        "best_estimator = trained_default_estimator_dict['SVC']\n",
        "\n",
        "precision_recall_df, ave_precision_score, prediction_recall_score = \\\n",
        "        get_precision_recall_curves(best_estimator, ts_cap_x, ts_y, prc_pos_label=None,\n",
        "                                    sample_weight=None, average_precision=None,\n",
        "                                    estimator_name=None, prd_pos_label=None,\n",
        "                                    print_prc=False, print_prd=False)\n",
        "\n",
        "print('Average Precision Score', ave_precision_score)\n",
        "print('Average Prediction Recall Score', prediction_recall_score)"
      ],
      "metadata": {
        "colab": {
          "base_uri": "https://localhost:8080/"
        },
        "id": "TdnCtMCtoZCh",
        "outputId": "caf9276c-bd42-4122-b973-aaaf0fc544a7"
      },
      "execution_count": null,
      "outputs": [
        {
          "output_type": "stream",
          "name": "stdout",
          "text": [
            "Average Precision Score 0.9918624574377413\n",
            "Average Prediction Recall Score 0.6310694676936079\n"
          ]
        }
      ]
    }
  ],
  "metadata": {
    "colab": {
      "provenance": [],
      "authorship_tag": "ABX9TyNffowk/LRIMNgy4+WgRM/v",
      "include_colab_link": true
    },
    "kernelspec": {
      "display_name": "Python 3",
      "name": "python3"
    },
    "language_info": {
      "name": "python"
    }
  },
  "nbformat": 4,
  "nbformat_minor": 0
}